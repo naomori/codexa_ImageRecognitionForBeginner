{
 "cells": [
  {
   "cell_type": "code",
   "execution_count": 1,
   "metadata": {},
   "outputs": [
    {
     "name": "stderr",
     "output_type": "stream",
     "text": [
      "Using TensorFlow backend.\n"
     ]
    }
   ],
   "source": [
    "# データ処理ライブラリ\n",
    "import numpy as np\n",
    "import pandas as pd \n",
    "from sklearn.preprocessing import LabelEncoder\n",
    "from sklearn.model_selection import train_test_split\n",
    "from sklearn.metrics import confusion_matrix, accuracy_score\n",
    "\n",
    "# 画像処理ライブラリ\n",
    "import cv2\n",
    "\n",
    "# 可視化ライブラリ\n",
    "import matplotlib.pyplot as plt\n",
    "\n",
    "# Keras\n",
    "import keras as ks\n",
    "from keras.models import Sequential\n",
    "from keras.layers import Dense, Dropout, Flatten, Conv2D, MaxPooling2D\n",
    "from keras.utils import np_utils\n",
    "\n",
    "# Pythonモジュール\n",
    "import os\n",
    "import glob\n",
    "\n",
    "# 表示設定\n",
    "pd.options.display.max_rows = 78\n",
    "pd.options.display.max_columns = 78\n",
    "\n",
    "# pathの設定\n",
    "path = \"./hiragana73/\"\n",
    "\n",
    "# ファイルの読み込み\n",
    "charfeatures = np.load(path + 'charfeatures.npy')\n",
    "files_df = pd.read_csv(path + 'files_df.csv')"
   ]
  },
  {
   "cell_type": "code",
   "execution_count": 2,
   "metadata": {},
   "outputs": [],
   "source": [
    "# ターゲットデータの作成\n",
    "y = files_df['Label']"
   ]
  },
  {
   "cell_type": "code",
   "execution_count": 3,
   "metadata": {},
   "outputs": [
    {
     "data": {
      "text/plain": [
       "LabelEncoder()"
      ]
     },
     "execution_count": 3,
     "metadata": {},
     "output_type": "execute_result"
    }
   ],
   "source": [
    "# ターゲットデータの前処理\n",
    "encoder = LabelEncoder()\n",
    "encoder.fit(y)"
   ]
  },
  {
   "cell_type": "code",
   "execution_count": 4,
   "metadata": {},
   "outputs": [
    {
     "name": "stdout",
     "output_type": "stream",
     "text": [
      "{'あ': 0, 'い': 1, 'う': 2, 'え': 3, 'お': 4, 'か': 5, 'が': 6, 'き': 7, 'ぎ': 8, 'く': 9, 'ぐ': 10, 'け': 11, 'げ': 12, 'こ': 13, 'ご': 14, 'さ': 15, 'ざ': 16, 'し': 17, 'じ': 18, 'す': 19, 'ず': 20, 'せ': 21, 'ぜ': 22, 'そ': 23, 'ぞ': 24, 'た': 25, 'だ': 26, 'ち': 27, 'ぢ': 28, 'つ': 29, 'づ': 30, 'て': 31, 'で': 32, 'と': 33, 'ど': 34, 'な': 35, 'に': 36, 'ぬ': 37, 'ね': 38, 'の': 39, 'は': 40, 'ば': 41, 'ぱ': 42, 'ひ': 43, 'び': 44, 'ぴ': 45, 'ふ': 46, 'ぶ': 47, 'ぷ': 48, 'へ': 49, 'べ': 50, 'ぺ': 51, 'ほ': 52, 'ぼ': 53, 'ぽ': 54, 'ま': 55, 'み': 56, 'む': 57, 'め': 58, 'も': 59, 'や': 60, 'ゆ': 61, 'よ': 62, 'ら': 63, 'り': 64, 'る': 65, 'れ': 66, 'ろ': 67, 'わ': 68, 'ゐ': 69, 'ゑ': 70, 'を': 71, 'ん': 72}\n"
     ]
    }
   ],
   "source": [
    "# 平仮名と数字のマッピングデータを作成\n",
    "encoder_character_mapping = dict(zip(encoder.classes_, encoder.transform(encoder.classes_)))\n",
    "print(encoder_character_mapping)"
   ]
  },
  {
   "cell_type": "code",
   "execution_count": 5,
   "metadata": {},
   "outputs": [],
   "source": [
    "# ラベルエンコーダーで変換\n",
    "y_encoded = encoder.transform(y)"
   ]
  },
  {
   "cell_type": "code",
   "execution_count": 6,
   "metadata": {},
   "outputs": [],
   "source": [
    "# 訓練/テストデータ 分割\n",
    "X_train, X_test, y_train, y_test = train_test_split(charfeatures, y_encoded, train_size=10000, test_size=10000, random_state=42)\n",
    "y_eval = y_test.copy()"
   ]
  },
  {
   "cell_type": "code",
   "execution_count": 7,
   "metadata": {},
   "outputs": [],
   "source": [
    "# データをfloat32型へ変換\n",
    "X_train = X_train.astype('float32')\n",
    "X_test = X_test.astype('float32')\n",
    "\n",
    "# 正規化\n",
    "X_train /= 255\n",
    "X_test /= 255"
   ]
  },
  {
   "cell_type": "code",
   "execution_count": 8,
   "metadata": {},
   "outputs": [],
   "source": [
    "# サイズ変更\n",
    "X_train = X_train.reshape(X_train.shape[0], 48, 48, 1)\n",
    "X_test = X_test.reshape(X_test.shape[0], 48, 48, 1)"
   ]
  },
  {
   "cell_type": "code",
   "execution_count": 9,
   "metadata": {},
   "outputs": [],
   "source": [
    "# バイナリーのクラス行列へ変換\n",
    "y_train = np_utils.to_categorical(y_train, 73)\n",
    "y_test = np_utils.to_categorical(y_test, 73)"
   ]
  },
  {
   "cell_type": "markdown",
   "metadata": {},
   "source": [
    "\n",
    "# CNN モデル訓練\n",
    "\n",
    "### model_1\n",
    "* ベースラインモデルとしてシンプルな構造のCNN\n",
    "* 畳み込み層 x 2, maxpooling 層 x 2, 全結合層 x 2\n",
    "\n",
    "### model_2\n",
    "* model_1 と同等の層を持つ CNN\n",
    "* model_1 の各層にドロップアウト（0.25）を追加\n",
    "\n",
    "### model_3\n",
    "* model_2 をより深くした構造の CNN\n",
    "* 畳み込み層 x 3, maxpooling 層 x 3, 全結合層 x 2\n"
   ]
  },
  {
   "cell_type": "markdown",
   "metadata": {},
   "source": [
    "# model_1の訓練"
   ]
  },
  {
   "cell_type": "markdown",
   "metadata": {},
   "source": [
    "## 1. 入力層＋畳み込み層の追加"
   ]
  },
  {
   "cell_type": "code",
   "execution_count": 10,
   "metadata": {},
   "outputs": [
    {
     "name": "stdout",
     "output_type": "stream",
     "text": [
      "WARNING:tensorflow:From C:\\Users\\4009953\\AppData\\Local\\Continuum\\anaconda3\\lib\\site-packages\\tensorflow\\python\\framework\\op_def_library.py:263: colocate_with (from tensorflow.python.framework.ops) is deprecated and will be removed in a future version.\n",
      "Instructions for updating:\n",
      "Colocations handled automatically by placer.\n"
     ]
    }
   ],
   "source": [
    "# Sequentialモデルの生成\n",
    "model_1 = Sequential()\n",
    "\n",
    "# 入力層兼畳み込み層を追加\n",
    "model_1.add(Conv2D(32, kernel_size=(3, 3),\n",
    "                 activation='relu',\n",
    "                 input_shape=(48,48,1)))"
   ]
  },
  {
   "cell_type": "markdown",
   "metadata": {},
   "source": [
    "## 2. プール層の追加"
   ]
  },
  {
   "cell_type": "code",
   "execution_count": 11,
   "metadata": {},
   "outputs": [],
   "source": [
    "# プール層を追加\n",
    "model_1.add(MaxPooling2D(pool_size=(2, 2)))"
   ]
  },
  {
   "cell_type": "markdown",
   "metadata": {},
   "source": [
    "## 3. 畳み込み層＋プール層の追加"
   ]
  },
  {
   "cell_type": "code",
   "execution_count": 12,
   "metadata": {},
   "outputs": [],
   "source": [
    "# 畳み込み層の追加\n",
    "model_1.add(Conv2D(64, kernel_size=(3, 3), activation='relu'))\n",
    "\n",
    "# プール層の追加\n",
    "model_1.add(MaxPooling2D(pool_size=(2, 2)))"
   ]
  },
  {
   "cell_type": "markdown",
   "metadata": {},
   "source": [
    "## 4. 全結合層 x 2 ＋出力層の追加"
   ]
  },
  {
   "cell_type": "code",
   "execution_count": 13,
   "metadata": {},
   "outputs": [],
   "source": [
    "# 全結合層\n",
    "model_1.add(Flatten())\n",
    "\n",
    "# 全結合層\n",
    "model_1.add(Dense(128, activation='relu'))\n",
    "\n",
    "# 出力層\n",
    "model_1.add(Dense(73, activation='softmax'))"
   ]
  },
  {
   "cell_type": "markdown",
   "metadata": {},
   "source": [
    "## 5. コンパイル"
   ]
  },
  {
   "cell_type": "code",
   "execution_count": 14,
   "metadata": {},
   "outputs": [],
   "source": [
    "# モデル コンパイル\n",
    "model_1.compile(loss='categorical_crossentropy',\n",
    "              optimizer='sgd',\n",
    "              metrics=['accuracy'])"
   ]
  },
  {
   "cell_type": "markdown",
   "metadata": {},
   "source": [
    "## モデルの確認"
   ]
  },
  {
   "cell_type": "code",
   "execution_count": 15,
   "metadata": {},
   "outputs": [
    {
     "name": "stdout",
     "output_type": "stream",
     "text": [
      "_________________________________________________________________\n",
      "Layer (type)                 Output Shape              Param #   \n",
      "=================================================================\n",
      "conv2d_1 (Conv2D)            (None, 46, 46, 32)        320       \n",
      "_________________________________________________________________\n",
      "max_pooling2d_1 (MaxPooling2 (None, 23, 23, 32)        0         \n",
      "_________________________________________________________________\n",
      "conv2d_2 (Conv2D)            (None, 21, 21, 64)        18496     \n",
      "_________________________________________________________________\n",
      "max_pooling2d_2 (MaxPooling2 (None, 10, 10, 64)        0         \n",
      "_________________________________________________________________\n",
      "flatten_1 (Flatten)          (None, 6400)              0         \n",
      "_________________________________________________________________\n",
      "dense_1 (Dense)              (None, 128)               819328    \n",
      "_________________________________________________________________\n",
      "dense_2 (Dense)              (None, 73)                9417      \n",
      "=================================================================\n",
      "Total params: 847,561\n",
      "Trainable params: 847,561\n",
      "Non-trainable params: 0\n",
      "_________________________________________________________________\n"
     ]
    }
   ],
   "source": [
    "model_1.summary()"
   ]
  },
  {
   "cell_type": "markdown",
   "metadata": {},
   "source": [
    "## 訓練中の性能監視を準備する"
   ]
  },
  {
   "cell_type": "code",
   "execution_count": 16,
   "metadata": {},
   "outputs": [],
   "source": [
    "# EarlyStoppingの設定\n",
    "from keras.callbacks import EarlyStopping\n",
    "callbacks = EarlyStopping(monitor='val_loss', patience=3)"
   ]
  },
  {
   "cell_type": "markdown",
   "metadata": {},
   "source": [
    "## モデルの訓練"
   ]
  },
  {
   "cell_type": "code",
   "execution_count": 17,
   "metadata": {},
   "outputs": [
    {
     "name": "stdout",
     "output_type": "stream",
     "text": [
      "WARNING:tensorflow:From C:\\Users\\4009953\\AppData\\Local\\Continuum\\anaconda3\\lib\\site-packages\\tensorflow\\python\\ops\\math_ops.py:3066: to_int32 (from tensorflow.python.ops.math_ops) is deprecated and will be removed in a future version.\n",
      "Instructions for updating:\n",
      "Use tf.cast instead.\n",
      "Train on 10000 samples, validate on 10000 samples\n",
      "Epoch 1/50\n",
      "10000/10000 [==============================] - 23s 2ms/step - loss: 4.2610 - acc: 0.0209 - val_loss: 4.2285 - val_acc: 0.0121\n",
      "Epoch 2/50\n",
      "10000/10000 [==============================] - 22s 2ms/step - loss: 4.0638 - acc: 0.0710 - val_loss: 3.8463 - val_acc: 0.0936\n",
      "Epoch 3/50\n",
      "10000/10000 [==============================] - 24s 2ms/step - loss: 2.5684 - acc: 0.3796 - val_loss: 1.3766 - val_acc: 0.6154\n",
      "Epoch 4/50\n",
      "10000/10000 [==============================] - 25s 2ms/step - loss: 0.6981 - acc: 0.8427 - val_loss: 0.5612 - val_acc: 0.8575\n",
      "Epoch 5/50\n",
      "10000/10000 [==============================] - 24s 2ms/step - loss: 0.3584 - acc: 0.9157 - val_loss: 0.3409 - val_acc: 0.9244\n",
      "Epoch 6/50\n",
      "10000/10000 [==============================] - 26s 3ms/step - loss: 0.2565 - acc: 0.9409 - val_loss: 0.3014 - val_acc: 0.9297\n",
      "Epoch 7/50\n",
      "10000/10000 [==============================] - 26s 3ms/step - loss: 0.1972 - acc: 0.9491 - val_loss: 0.2528 - val_acc: 0.9439\n",
      "Epoch 8/50\n",
      "10000/10000 [==============================] - 25s 2ms/step - loss: 0.1603 - acc: 0.9606 - val_loss: 0.2190 - val_acc: 0.9502\n",
      "Epoch 9/50\n",
      "10000/10000 [==============================] - 24s 2ms/step - loss: 0.1317 - acc: 0.9671 - val_loss: 0.2138 - val_acc: 0.9484\n",
      "Epoch 10/50\n",
      "10000/10000 [==============================] - 24s 2ms/step - loss: 0.1108 - acc: 0.9708 - val_loss: 0.2133 - val_acc: 0.9526\n",
      "Epoch 11/50\n",
      "10000/10000 [==============================] - 25s 2ms/step - loss: 0.0979 - acc: 0.9736 - val_loss: 0.1911 - val_acc: 0.9563\n",
      "Epoch 12/50\n",
      "10000/10000 [==============================] - 25s 2ms/step - loss: 0.0859 - acc: 0.9768 - val_loss: 0.2118 - val_acc: 0.9470\n",
      "Epoch 13/50\n",
      "10000/10000 [==============================] - 24s 2ms/step - loss: 0.0754 - acc: 0.9802 - val_loss: 0.2019 - val_acc: 0.9547\n",
      "Epoch 14/50\n",
      "10000/10000 [==============================] - 24s 2ms/step - loss: 0.0655 - acc: 0.9829 - val_loss: 0.1939 - val_acc: 0.9517\n"
     ]
    },
    {
     "data": {
      "text/plain": [
       "<keras.callbacks.History at 0x18c26798940>"
      ]
     },
     "execution_count": 17,
     "metadata": {},
     "output_type": "execute_result"
    }
   ],
   "source": [
    "# モデル訓練\n",
    "model_1.fit(X_train, y_train, validation_data = (X_test, y_test), callbacks=[callbacks], epochs=50)"
   ]
  },
  {
   "cell_type": "code",
   "execution_count": 18,
   "metadata": {},
   "outputs": [
    {
     "data": {
      "text/plain": [
       "array([19, 52, 27, 63, 18], dtype=int64)"
      ]
     },
     "execution_count": 18,
     "metadata": {},
     "output_type": "execute_result"
    }
   ],
   "source": [
    "# テストデータで推測\n",
    "pred_test = model_1.predict_classes(X_test)\n",
    "pred_test[0:5]"
   ]
  },
  {
   "cell_type": "code",
   "execution_count": 19,
   "metadata": {},
   "outputs": [
    {
     "data": {
      "text/plain": [
       "0.9517"
      ]
     },
     "execution_count": 19,
     "metadata": {},
     "output_type": "execute_result"
    }
   ],
   "source": [
    "# 正解率の算出\n",
    "accuracy_score(y_eval, pred_test)"
   ]
  },
  {
   "cell_type": "markdown",
   "metadata": {},
   "source": [
    "- - -\n",
    "# model_2 の訓練"
   ]
  },
  {
   "cell_type": "code",
   "execution_count": 20,
   "metadata": {},
   "outputs": [
    {
     "name": "stdout",
     "output_type": "stream",
     "text": [
      "WARNING:tensorflow:From C:\\Users\\4009953\\AppData\\Local\\Continuum\\anaconda3\\lib\\site-packages\\keras\\backend\\tensorflow_backend.py:3445: calling dropout (from tensorflow.python.ops.nn_ops) with keep_prob is deprecated and will be removed in a future version.\n",
      "Instructions for updating:\n",
      "Please use `rate` instead of `keep_prob`. Rate should be set to `rate = 1 - keep_prob`.\n",
      "_________________________________________________________________\n",
      "Layer (type)                 Output Shape              Param #   \n",
      "=================================================================\n",
      "conv2d_3 (Conv2D)            (None, 46, 46, 32)        320       \n",
      "_________________________________________________________________\n",
      "max_pooling2d_3 (MaxPooling2 (None, 23, 23, 32)        0         \n",
      "_________________________________________________________________\n",
      "dropout_1 (Dropout)          (None, 23, 23, 32)        0         \n",
      "_________________________________________________________________\n",
      "conv2d_4 (Conv2D)            (None, 21, 21, 64)        18496     \n",
      "_________________________________________________________________\n",
      "max_pooling2d_4 (MaxPooling2 (None, 10, 10, 64)        0         \n",
      "_________________________________________________________________\n",
      "dropout_2 (Dropout)          (None, 10, 10, 64)        0         \n",
      "_________________________________________________________________\n",
      "flatten_2 (Flatten)          (None, 6400)              0         \n",
      "_________________________________________________________________\n",
      "dense_3 (Dense)              (None, 128)               819328    \n",
      "_________________________________________________________________\n",
      "dense_4 (Dense)              (None, 73)                9417      \n",
      "=================================================================\n",
      "Total params: 847,561\n",
      "Trainable params: 847,561\n",
      "Non-trainable params: 0\n",
      "_________________________________________________________________\n"
     ]
    }
   ],
   "source": [
    "# model_2の構築\n",
    "model_2 = Sequential()\n",
    "model_2.add(Conv2D(32, kernel_size=(3, 3),\n",
    "                 activation='relu',\n",
    "                 input_shape=(48,48,1)))\n",
    "model_2.add(MaxPooling2D(pool_size=(2, 2)))\n",
    "model_2.add(Dropout(0.25))\n",
    "\n",
    "model_2.add(Conv2D(64, kernel_size=(3, 3), activation='relu'))\n",
    "model_2.add(MaxPooling2D(pool_size=(2, 2)))\n",
    "model_2.add(Dropout(0.25))\n",
    "\n",
    "model_2.add(Flatten())\n",
    "model_2.add(Dense(128, activation='relu'))\n",
    "model_2.add(Dense(73, activation='softmax'))\n",
    "\n",
    "# モデル コンパイル\n",
    "model_2.compile(loss='categorical_crossentropy',\n",
    "              optimizer='sgd',\n",
    "              metrics=['accuracy'])\n",
    "\n",
    "# モデルサマリー出力\n",
    "model_2.summary()"
   ]
  },
  {
   "cell_type": "code",
   "execution_count": 21,
   "metadata": {},
   "outputs": [
    {
     "name": "stdout",
     "output_type": "stream",
     "text": [
      "Train on 10000 samples, validate on 10000 samples\n",
      "Epoch 1/50\n",
      "10000/10000 [==============================] - 28s 3ms/step - loss: 4.2618 - acc: 0.0225 - val_loss: 4.2368 - val_acc: 0.0325\n",
      "Epoch 2/50\n",
      "10000/10000 [==============================] - 29s 3ms/step - loss: 3.9995 - acc: 0.0702 - val_loss: 3.6280 - val_acc: 0.1192\n",
      "Epoch 3/50\n",
      "10000/10000 [==============================] - 29s 3ms/step - loss: 2.3061 - acc: 0.4144 - val_loss: 1.2549 - val_acc: 0.7057\n",
      "Epoch 4/50\n",
      "10000/10000 [==============================] - 28s 3ms/step - loss: 0.7793 - acc: 0.8001 - val_loss: 0.5215 - val_acc: 0.8898\n",
      "Epoch 5/50\n",
      "10000/10000 [==============================] - 29s 3ms/step - loss: 0.4904 - acc: 0.8767 - val_loss: 0.4210 - val_acc: 0.9064\n",
      "Epoch 6/50\n",
      "10000/10000 [==============================] - 30s 3ms/step - loss: 0.3785 - acc: 0.9035 - val_loss: 0.3581 - val_acc: 0.9218\n",
      "Epoch 7/50\n",
      "10000/10000 [==============================] - 30s 3ms/step - loss: 0.3160 - acc: 0.9212 - val_loss: 0.2880 - val_acc: 0.9370\n",
      "Epoch 8/50\n",
      "10000/10000 [==============================] - 30s 3ms/step - loss: 0.2716 - acc: 0.9314 - val_loss: 0.2737 - val_acc: 0.9404\n",
      "Epoch 9/50\n",
      "10000/10000 [==============================] - 29s 3ms/step - loss: 0.2446 - acc: 0.9344 - val_loss: 0.2536 - val_acc: 0.9471\n",
      "Epoch 10/50\n",
      "10000/10000 [==============================] - 29s 3ms/step - loss: 0.2177 - acc: 0.9421 - val_loss: 0.2559 - val_acc: 0.9419\n",
      "Epoch 11/50\n",
      "10000/10000 [==============================] - 29s 3ms/step - loss: 0.1952 - acc: 0.9480 - val_loss: 0.2620 - val_acc: 0.9344\n",
      "Epoch 12/50\n",
      "10000/10000 [==============================] - 29s 3ms/step - loss: 0.1838 - acc: 0.9514 - val_loss: 0.2354 - val_acc: 0.9516\n",
      "Epoch 13/50\n",
      "10000/10000 [==============================] - 29s 3ms/step - loss: 0.1657 - acc: 0.9548 - val_loss: 0.2399 - val_acc: 0.9473\n",
      "Epoch 14/50\n",
      "10000/10000 [==============================] - 31s 3ms/step - loss: 0.1517 - acc: 0.9597 - val_loss: 0.2772 - val_acc: 0.9331\n",
      "Epoch 15/50\n",
      "10000/10000 [==============================] - 33s 3ms/step - loss: 0.1387 - acc: 0.9621 - val_loss: 0.2199 - val_acc: 0.9477\n",
      "Epoch 16/50\n",
      "10000/10000 [==============================] - 32s 3ms/step - loss: 0.1282 - acc: 0.9648 - val_loss: 0.2031 - val_acc: 0.9560\n",
      "Epoch 17/50\n",
      "10000/10000 [==============================] - 32s 3ms/step - loss: 0.1175 - acc: 0.9671 - val_loss: 0.2045 - val_acc: 0.9556\n",
      "Epoch 18/50\n",
      "10000/10000 [==============================] - 32s 3ms/step - loss: 0.1138 - acc: 0.9685 - val_loss: 0.2048 - val_acc: 0.9509\n",
      "Epoch 19/50\n",
      "10000/10000 [==============================] - 32s 3ms/step - loss: 0.1073 - acc: 0.9713 - val_loss: 0.1871 - val_acc: 0.9579\n",
      "Epoch 20/50\n",
      "10000/10000 [==============================] - 31s 3ms/step - loss: 0.1020 - acc: 0.9704 - val_loss: 0.2135 - val_acc: 0.9523\n",
      "Epoch 21/50\n",
      "10000/10000 [==============================] - 32s 3ms/step - loss: 0.0952 - acc: 0.9732 - val_loss: 0.1887 - val_acc: 0.9596\n",
      "Epoch 22/50\n",
      "10000/10000 [==============================] - 29s 3ms/step - loss: 0.0898 - acc: 0.9741 - val_loss: 0.1810 - val_acc: 0.9602\n",
      "Epoch 23/50\n",
      "10000/10000 [==============================] - 32s 3ms/step - loss: 0.0852 - acc: 0.9740 - val_loss: 0.1883 - val_acc: 0.9602\n",
      "Epoch 24/50\n",
      "10000/10000 [==============================] - 31s 3ms/step - loss: 0.0785 - acc: 0.9784 - val_loss: 0.1830 - val_acc: 0.9614\n",
      "Epoch 25/50\n",
      "10000/10000 [==============================] - 29s 3ms/step - loss: 0.0767 - acc: 0.9781 - val_loss: 0.1839 - val_acc: 0.9610\n"
     ]
    },
    {
     "data": {
      "text/plain": [
       "<keras.callbacks.History at 0x18c26798780>"
      ]
     },
     "execution_count": 21,
     "metadata": {},
     "output_type": "execute_result"
    }
   ],
   "source": [
    "# EarlyStoppingの設定\n",
    "from keras.callbacks import EarlyStopping\n",
    "callbacks = EarlyStopping(monitor='val_loss', patience=3)\n",
    "\n",
    "# モデル訓練\n",
    "model_2.fit(X_train, y_train, validation_data = (X_test, y_test), callbacks=[callbacks], epochs=50)"
   ]
  },
  {
   "cell_type": "code",
   "execution_count": 22,
   "metadata": {},
   "outputs": [
    {
     "data": {
      "text/plain": [
       "0.961"
      ]
     },
     "execution_count": 22,
     "metadata": {},
     "output_type": "execute_result"
    }
   ],
   "source": [
    "# テストデータで推測\n",
    "pred_test = model_2.predict_classes(X_test)\n",
    "\n",
    "# 正解率の算出\n",
    "accuracy_score(y_eval, pred_test)"
   ]
  },
  {
   "cell_type": "markdown",
   "metadata": {},
   "source": [
    "# model_3 の訓練"
   ]
  },
  {
   "cell_type": "code",
   "execution_count": 23,
   "metadata": {},
   "outputs": [
    {
     "name": "stdout",
     "output_type": "stream",
     "text": [
      "_________________________________________________________________\n",
      "Layer (type)                 Output Shape              Param #   \n",
      "=================================================================\n",
      "conv2d_5 (Conv2D)            (None, 46, 46, 32)        320       \n",
      "_________________________________________________________________\n",
      "max_pooling2d_5 (MaxPooling2 (None, 23, 23, 32)        0         \n",
      "_________________________________________________________________\n",
      "dropout_3 (Dropout)          (None, 23, 23, 32)        0         \n",
      "_________________________________________________________________\n",
      "conv2d_6 (Conv2D)            (None, 21, 21, 64)        18496     \n",
      "_________________________________________________________________\n",
      "max_pooling2d_6 (MaxPooling2 (None, 10, 10, 64)        0         \n",
      "_________________________________________________________________\n",
      "dropout_4 (Dropout)          (None, 10, 10, 64)        0         \n",
      "_________________________________________________________________\n",
      "conv2d_7 (Conv2D)            (None, 8, 8, 128)         73856     \n",
      "_________________________________________________________________\n",
      "max_pooling2d_7 (MaxPooling2 (None, 4, 4, 128)         0         \n",
      "_________________________________________________________________\n",
      "dropout_5 (Dropout)          (None, 4, 4, 128)         0         \n",
      "_________________________________________________________________\n",
      "flatten_3 (Flatten)          (None, 2048)              0         \n",
      "_________________________________________________________________\n",
      "dense_5 (Dense)              (None, 128)               262272    \n",
      "_________________________________________________________________\n",
      "dropout_6 (Dropout)          (None, 128)               0         \n",
      "_________________________________________________________________\n",
      "dense_6 (Dense)              (None, 73)                9417      \n",
      "=================================================================\n",
      "Total params: 364,361\n",
      "Trainable params: 364,361\n",
      "Non-trainable params: 0\n",
      "_________________________________________________________________\n"
     ]
    }
   ],
   "source": [
    "# model_3の構築\n",
    "model_3 = Sequential()\n",
    "model_3.add(Conv2D(32, kernel_size=(3, 3),\n",
    "                 activation='relu',\n",
    "                 input_shape=(48,48,1)))\n",
    "model_3.add(MaxPooling2D(pool_size=(2, 2)))\n",
    "model_3.add(Dropout(0.25))\n",
    "\n",
    "model_3.add(Conv2D(64, kernel_size=(3, 3), activation='relu'))\n",
    "model_3.add(MaxPooling2D(pool_size=(2, 2)))\n",
    "model_3.add(Dropout(0.25))\n",
    "\n",
    "model_3.add(Conv2D(128, kernel_size=(3, 3), activation='relu'))\n",
    "model_3.add(MaxPooling2D(pool_size=(2, 2)))\n",
    "model_3.add(Dropout(0.25))\n",
    "\n",
    "model_3.add(Flatten())\n",
    "model_3.add(Dense(128, activation='relu'))\n",
    "model_3.add(Dropout(0.25))\n",
    "model_3.add(Dense(73, activation='softmax'))\n",
    "\n",
    "# モデル コンパイル\n",
    "model_3.compile(loss='categorical_crossentropy',\n",
    "              optimizer='sgd',\n",
    "              metrics=['accuracy'])\n",
    "\n",
    "# モデルサマリー出力\n",
    "model_3.summary()"
   ]
  },
  {
   "cell_type": "code",
   "execution_count": 24,
   "metadata": {},
   "outputs": [
    {
     "name": "stdout",
     "output_type": "stream",
     "text": [
      "Train on 10000 samples, validate on 10000 samples\n",
      "Epoch 1/50\n",
      "10000/10000 [==============================] - 34s 3ms/step - loss: 4.2879 - acc: 0.0166 - val_loss: 4.2838 - val_acc: 0.0189\n",
      "Epoch 2/50\n",
      "10000/10000 [==============================] - 37s 4ms/step - loss: 4.2751 - acc: 0.0207 - val_loss: 4.2771 - val_acc: 0.0196\n",
      "Epoch 3/50\n",
      "10000/10000 [==============================] - 37s 4ms/step - loss: 4.2637 - acc: 0.0204 - val_loss: 4.2652 - val_acc: 0.0236\n",
      "Epoch 4/50\n",
      "10000/10000 [==============================] - 37s 4ms/step - loss: 4.2419 - acc: 0.0290 - val_loss: 4.2405 - val_acc: 0.0321\n",
      "Epoch 5/50\n",
      "10000/10000 [==============================] - 37s 4ms/step - loss: 4.1608 - acc: 0.0462 - val_loss: 4.0973 - val_acc: 0.1338\n",
      "Epoch 6/50\n",
      "10000/10000 [==============================] - 40s 4ms/step - loss: 3.6724 - acc: 0.1291 - val_loss: 2.9178 - val_acc: 0.4444\n",
      "Epoch 7/50\n",
      "10000/10000 [==============================] - 41s 4ms/step - loss: 2.2225 - acc: 0.4149 - val_loss: 1.1902 - val_acc: 0.7958\n",
      "Epoch 8/50\n",
      "10000/10000 [==============================] - 38s 4ms/step - loss: 1.2081 - acc: 0.6664 - val_loss: 0.6514 - val_acc: 0.8830\n",
      "Epoch 9/50\n",
      "10000/10000 [==============================] - 38s 4ms/step - loss: 0.8271 - acc: 0.7693 - val_loss: 0.4640 - val_acc: 0.9117\n",
      "Epoch 10/50\n",
      "10000/10000 [==============================] - 39s 4ms/step - loss: 0.6530 - acc: 0.8179 - val_loss: 0.3711 - val_acc: 0.9220\n",
      "Epoch 11/50\n",
      "10000/10000 [==============================] - 38s 4ms/step - loss: 0.5206 - acc: 0.8555 - val_loss: 0.2966 - val_acc: 0.9399\n",
      "Epoch 12/50\n",
      "10000/10000 [==============================] - 37s 4ms/step - loss: 0.4613 - acc: 0.8768 - val_loss: 0.2645 - val_acc: 0.9428\n",
      "Epoch 13/50\n",
      "10000/10000 [==============================] - 37s 4ms/step - loss: 0.3911 - acc: 0.8924 - val_loss: 0.2438 - val_acc: 0.9436\n",
      "Epoch 14/50\n",
      "10000/10000 [==============================] - 37s 4ms/step - loss: 0.3596 - acc: 0.9011 - val_loss: 0.2312 - val_acc: 0.9452\n",
      "Epoch 15/50\n",
      "10000/10000 [==============================] - 37s 4ms/step - loss: 0.3194 - acc: 0.9070 - val_loss: 0.2137 - val_acc: 0.9508\n",
      "Epoch 16/50\n",
      "10000/10000 [==============================] - 37s 4ms/step - loss: 0.3102 - acc: 0.9126 - val_loss: 0.1943 - val_acc: 0.9563\n",
      "Epoch 17/50\n",
      "10000/10000 [==============================] - 41s 4ms/step - loss: 0.2743 - acc: 0.9218 - val_loss: 0.1833 - val_acc: 0.9565\n",
      "Epoch 18/50\n",
      "10000/10000 [==============================] - 39s 4ms/step - loss: 0.2650 - acc: 0.9240 - val_loss: 0.1827 - val_acc: 0.9571\n",
      "Epoch 19/50\n",
      "10000/10000 [==============================] - 39s 4ms/step - loss: 0.2382 - acc: 0.9332 - val_loss: 0.1768 - val_acc: 0.9593\n",
      "Epoch 20/50\n",
      "10000/10000 [==============================] - 39s 4ms/step - loss: 0.2370 - acc: 0.9317 - val_loss: 0.1670 - val_acc: 0.9621\n",
      "Epoch 21/50\n",
      "10000/10000 [==============================] - 39s 4ms/step - loss: 0.2210 - acc: 0.9373 - val_loss: 0.1614 - val_acc: 0.9637\n",
      "Epoch 22/50\n",
      "10000/10000 [==============================] - 38s 4ms/step - loss: 0.2094 - acc: 0.9381 - val_loss: 0.1548 - val_acc: 0.9641\n",
      "Epoch 23/50\n",
      "10000/10000 [==============================] - 39s 4ms/step - loss: 0.1938 - acc: 0.9435 - val_loss: 0.1519 - val_acc: 0.9636\n",
      "Epoch 24/50\n",
      "10000/10000 [==============================] - 37s 4ms/step - loss: 0.1873 - acc: 0.9426 - val_loss: 0.1500 - val_acc: 0.9644\n",
      "Epoch 25/50\n",
      "10000/10000 [==============================] - 37s 4ms/step - loss: 0.1804 - acc: 0.9463 - val_loss: 0.1482 - val_acc: 0.9632 - ETA\n",
      "Epoch 26/50\n",
      "10000/10000 [==============================] - 38s 4ms/step - loss: 0.1697 - acc: 0.9478 - val_loss: 0.1457 - val_acc: 0.9634\n",
      "Epoch 27/50\n",
      "10000/10000 [==============================] - 41s 4ms/step - loss: 0.1587 - acc: 0.9521 - val_loss: 0.1367 - val_acc: 0.9663\n",
      "Epoch 28/50\n",
      "10000/10000 [==============================] - 44s 4ms/step - loss: 0.1622 - acc: 0.9512 - val_loss: 0.1355 - val_acc: 0.9675\n",
      "Epoch 29/50\n",
      "10000/10000 [==============================] - 41s 4ms/step - loss: 0.1522 - acc: 0.9526 - val_loss: 0.1499 - val_acc: 0.9599\n",
      "Epoch 30/50\n",
      "10000/10000 [==============================] - 38s 4ms/step - loss: 0.1430 - acc: 0.9553 - val_loss: 0.1359 - val_acc: 0.9681\n",
      "Epoch 31/50\n",
      "10000/10000 [==============================] - 38s 4ms/step - loss: 0.1423 - acc: 0.9558 - val_loss: 0.1353 - val_acc: 0.9672\n",
      "Epoch 32/50\n",
      "10000/10000 [==============================] - 39s 4ms/step - loss: 0.1341 - acc: 0.9575 - val_loss: 0.1289 - val_acc: 0.9680\n",
      "Epoch 33/50\n",
      "10000/10000 [==============================] - 41s 4ms/step - loss: 0.1382 - acc: 0.9559 - val_loss: 0.1290 - val_acc: 0.9688\n",
      "Epoch 34/50\n",
      "10000/10000 [==============================] - 41s 4ms/step - loss: 0.1303 - acc: 0.9603 - val_loss: 0.1236 - val_acc: 0.9702\n",
      "Epoch 35/50\n",
      "10000/10000 [==============================] - 40s 4ms/step - loss: 0.1230 - acc: 0.9610 - val_loss: 0.1274 - val_acc: 0.9683\n",
      "Epoch 36/50\n",
      "10000/10000 [==============================] - 45s 4ms/step - loss: 0.1227 - acc: 0.9619 - val_loss: 0.1217 - val_acc: 0.9692\n",
      "Epoch 37/50\n",
      "10000/10000 [==============================] - 43s 4ms/step - loss: 0.1160 - acc: 0.9611 - val_loss: 0.1245 - val_acc: 0.9690\n",
      "Epoch 38/50\n",
      "10000/10000 [==============================] - 40s 4ms/step - loss: 0.1094 - acc: 0.9646 - val_loss: 0.1285 - val_acc: 0.9665\n",
      "Epoch 39/50\n",
      "10000/10000 [==============================] - 40s 4ms/step - loss: 0.1068 - acc: 0.9660 - val_loss: 0.1252 - val_acc: 0.9695\n"
     ]
    },
    {
     "data": {
      "text/plain": [
       "<keras.callbacks.History at 0x18c4c1d3be0>"
      ]
     },
     "execution_count": 24,
     "metadata": {},
     "output_type": "execute_result"
    }
   ],
   "source": [
    "# EarlyStoppingの設定\n",
    "from keras.callbacks import EarlyStopping\n",
    "callbacks = EarlyStopping(monitor='val_loss', patience=3)\n",
    "\n",
    "# モデル訓練\n",
    "model_3.fit(X_train, y_train, validation_data = (X_test, y_test), callbacks=[callbacks], epochs=50)"
   ]
  },
  {
   "cell_type": "code",
   "execution_count": 25,
   "metadata": {},
   "outputs": [
    {
     "data": {
      "text/plain": [
       "0.9695"
      ]
     },
     "execution_count": 25,
     "metadata": {},
     "output_type": "execute_result"
    }
   ],
   "source": [
    "# テストデータで推測\n",
    "pred_test = model_3.predict_classes(X_test)\n",
    "\n",
    "# 正解率の算出\n",
    "accuracy_score(y_eval, pred_test)"
   ]
  },
  {
   "cell_type": "code",
   "execution_count": null,
   "metadata": {},
   "outputs": [],
   "source": []
  }
 ],
 "metadata": {
  "kernelspec": {
   "display_name": "Python 3",
   "language": "python",
   "name": "python3"
  },
  "language_info": {
   "codemirror_mode": {
    "name": "ipython",
    "version": 3
   },
   "file_extension": ".py",
   "mimetype": "text/x-python",
   "name": "python",
   "nbconvert_exporter": "python",
   "pygments_lexer": "ipython3",
   "version": "3.7.3"
  }
 },
 "nbformat": 4,
 "nbformat_minor": 2
}
