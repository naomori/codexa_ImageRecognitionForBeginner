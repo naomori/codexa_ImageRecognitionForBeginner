{
  "nbformat": 4,
  "nbformat_minor": 0,
  "metadata": {
    "colab": {
      "name": "Chapter2-1.ipynb",
      "version": "0.3.2",
      "provenance": [],
      "include_colab_link": true
    },
    "kernelspec": {
      "name": "python3",
      "display_name": "Python 3"
    }
  },
  "cells": [
    {
      "cell_type": "markdown",
      "metadata": {
        "id": "view-in-github",
        "colab_type": "text"
      },
      "source": [
        "<a href=\"https://colab.research.google.com/github/naomori/codexa_ImageRecognitionForBeginner/blob/master/Chapter2_1.ipynb\" target=\"_parent\"><img src=\"https://colab.research.google.com/assets/colab-badge.svg\" alt=\"Open In Colab\"/></a>"
      ]
    },
    {
      "cell_type": "markdown",
      "metadata": {
        "id": "kwhkzGZm0em5",
        "colab_type": "text"
      },
      "source": [
        "## Chapter 2.1: 画像認識とは\n",
        "\n",
        "画像認識（Image Recognition）は、画像や動画に映る動物や人物など、\n",
        "様々なオブジェクトを認識する技術を指します。\n",
        "\n",
        "画像認識は Computer vision の一部です。\n",
        "\n",
        "Computer vision には以下が含まれます。\n",
        "* 画像認識\n",
        "* イベント検知\n",
        "* ビデオトラッキング\n",
        "\n",
        "現在のAIブームは第３次AIブームと言われています。\n",
        "\n",
        "画像認識が一般に知られたのは 2012 年の ImangeNet Large Scale Visual Recoginition Challenge(ILSVRC) でした。\n",
        "\n",
        "2015年には、人間の認識能力を上回るものも現れました。\n"
      ]
    }
  ]
}