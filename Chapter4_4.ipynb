{
 "cells": [
  {
   "cell_type": "markdown",
   "metadata": {},
   "source": [
    "# 畳み込みニューラルネットワークの仕組み\n",
    "\n",
    "畳み込みニューラルネットワーク: Convolutional Neural Network(CNN), ConvNet とも言う。\n",
    "\n",
    "CNN には下記の３つの構造がある。\n",
    "1. 畳み込み層（Convolution Layer）\n",
    "2. プーリング層（Pooling Layer）\n",
    "3. 全結合層（Fully Connected Layer）"
   ]
  },
  {
   "cell_type": "markdown",
   "metadata": {},
   "source": [
    "## 畳み込み層（Convolutional Layer）\n",
    "\n",
    "フィルタがスライドして値を求めることにより、\n",
    "フィルタの特徴に近しいほど値が高いという特徴マップが生成される。\n",
    "\n",
    "### Strides\n",
    "Strides とは、フィルタが「いくつスライドするかを指定する値」のこと。\n",
    "\n",
    "### Zero Padding\n",
    "畳み込み層の数を増やすと、画像のサイズが小さくなりすぎて畳み込みが行えなくなる。\n",
    "また、畳込みの仕組み上、画像のエッジ部分の重要性は中心部と比べて過小評価されてしまう。\n",
    "Zero Padding はこの問題を解決する。\n",
    "\n",
    "Zero Padding とは、画像のエッジ部分を取り囲むように 0 でパディングすること。\n",
    "このように画像を 0 で水増しすることで、画像のエッジ部分も正しく考慮されるようになる。\n",
    "\n",
    "### 画像のサイズ\n",
    "\n",
    "* 元画像のサイズ＝$(h \\times w)$\n",
    "* ストライド = S\n",
    "* パディング = P\n",
    "* フィルタサイズ = $(f_{h} \\times f_w)$\n",
    "* 出力サイズ = $(O_{h} \\times O_{w})$\n",
    "\n",
    "$\n",
    "O_{h} = \\frac{h + 2P - F_{h}}{S} + 1 \\\\\n",
    "O_{w} = \\frac{w + 2P - F_{w}}{S} + 1\n",
    "$\n",
    "\n",
    "### フィルタの決め方\n",
    "\n",
    "CNN ではフィルタを設計者が決める必要はない。  \n",
    "なぜなら、フィルタは、訓練データからパラメタを学習して最適化されるため。\n",
    "\n",
    "### 活性化関数（Activation Function）\n",
    "\n",
    "活性化関数は複数あるが、近年の CNN では「ReLu」と呼ばれる活性化関数を使用するのが一般的となっている。  \n",
    "ReLu(Rectified Linear Unit)は、max(0, x)のような処理を行う。"
   ]
  },
  {
   "cell_type": "markdown",
   "metadata": {},
   "source": [
    "## プール層\n",
    "\n",
    "プール層の目的は複数ある\n",
    "\n",
    "* 計算コストを下げる\n",
    "* 過学習を防ぐ\n",
    "\n",
    "プール層はデータを圧縮し、計算コストを下げる。  \n",
    "圧縮方法には主に３種類ある。\n",
    "\n",
    "* Max Pooling\n",
    "* Average Pooling\n",
    "* Sum Pooling\n",
    "\n",
    "プール層では、Feature Map を小さい領域に分割して、Max, Average, sum の処理を行う。  \n",
    "一般的には、Max Pooling が使われる。訓練データの特徴などに合わせて、\n",
    "Average, Sum が使われたりする。\n",
    "３つの処理がすべて使われるわけではない。\n",
    "\n",
    "Feature Map を小さい領域に分割する領域を「プールサイズ」と呼び、\n",
    "エンジニアが設定する。一般的には、(2,2), (4,4)など偶数で指定することが多い。"
   ]
  },
  {
   "cell_type": "markdown",
   "metadata": {},
   "source": [
    "## 全結合層\n",
    "\n",
    "全結合層は、今まで処理を行ってきたユニットをすべて「結合させる」層のこと。  \n"
   ]
  },
  {
   "cell_type": "code",
   "execution_count": null,
   "metadata": {},
   "outputs": [],
   "source": []
  }
 ],
 "metadata": {
  "kernelspec": {
   "display_name": "Python 3",
   "language": "python",
   "name": "python3"
  },
  "language_info": {
   "codemirror_mode": {
    "name": "ipython",
    "version": 3
   },
   "file_extension": ".py",
   "mimetype": "text/x-python",
   "name": "python",
   "nbconvert_exporter": "python",
   "pygments_lexer": "ipython3",
   "version": "3.7.3"
  }
 },
 "nbformat": 4,
 "nbformat_minor": 2
}
