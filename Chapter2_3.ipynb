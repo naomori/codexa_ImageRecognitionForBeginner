{
  "nbformat": 4,
  "nbformat_minor": 0,
  "metadata": {
    "colab": {
      "name": "Chapter2-3.ipynb",
      "version": "0.3.2",
      "provenance": [],
      "include_colab_link": true
    },
    "kernelspec": {
      "name": "python3",
      "display_name": "Python 3"
    }
  },
  "cells": [
    {
      "cell_type": "markdown",
      "metadata": {
        "id": "view-in-github",
        "colab_type": "text"
      },
      "source": [
        "<a href=\"https://colab.research.google.com/github/naomori/codexa_ImageRecognitionForBeginner/blob/master/Chapter2_3.ipynb\" target=\"_parent\"><img src=\"https://colab.research.google.com/assets/colab-badge.svg\" alt=\"Open In Colab\"/></a>"
      ]
    },
    {
      "cell_type": "markdown",
      "metadata": {
        "id": "WtmJqVd_265C",
        "colab_type": "text"
      },
      "source": [
        "# Chapter 2.3: 画像認識の活用事例\n",
        "\n",
        "画像認識の技術は様々なサービスで利用されています。\n",
        "\n",
        "* 自動画像整理：写真に写っている人と写真を共有するように促してくれる\n",
        "* 画像検索：画像から車種を特定します（カーセンサー）\n",
        "* 画像認識による医療診断：網膜画像から失明の前兆を検出します\n",
        "* 自動車安全装備：障害物を検知し、自動でブレーキをかけます（Visconti:Toshiba）"
      ]
    }
  ]
}