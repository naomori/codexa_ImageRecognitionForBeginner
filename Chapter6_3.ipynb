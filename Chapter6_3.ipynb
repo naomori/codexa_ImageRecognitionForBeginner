{
 "cells": [
  {
   "cell_type": "markdown",
   "metadata": {},
   "source": [
    "# ベースラインのモデル訓練"
   ]
  },
  {
   "cell_type": "code",
   "execution_count": 1,
   "metadata": {},
   "outputs": [
    {
     "name": "stderr",
     "output_type": "stream",
     "text": [
      "Using TensorFlow backend.\n"
     ]
    }
   ],
   "source": [
    "# データ処理ライブラリ\n",
    "import numpy as np\n",
    "import pandas as pd \n",
    "\n",
    "# 画像処理ライブラリ\n",
    "import cv2\n",
    "\n",
    "# 可視化ライブラリ\n",
    "import matplotlib.pyplot as plt\n",
    "\n",
    "# Keras\n",
    "import keras as ks\n",
    "from keras.preprocessing.image import ImageDataGenerator\n",
    "from keras.optimizers import Adam\n",
    "from keras.models import Sequential\n",
    "from keras.layers import Dense, Dropout, Flatten, Conv2D, MaxPooling2D\n",
    "from keras.utils import np_utils\n",
    "from keras.callbacks import EarlyStopping, ModelCheckpoint\n",
    "\n",
    "# Scikit-learn\n",
    "from sklearn.preprocessing import LabelEncoder\n",
    "from sklearn.model_selection import train_test_split\n",
    "from sklearn.metrics import confusion_matrix, recall_score, precision_score, accuracy_score\n",
    "\n",
    "# Pythonモジュールと設定\n",
    "import os\n",
    "import glob\n",
    "%matplotlib inline"
   ]
  },
  {
   "cell_type": "code",
   "execution_count": 2,
   "metadata": {},
   "outputs": [],
   "source": [
    "# Pathの設定\n",
    "test_path = \"./chest_xray/test/\"\n",
    "train_path = \"./chest_xray/train/\""
   ]
  },
  {
   "cell_type": "code",
   "execution_count": 3,
   "metadata": {},
   "outputs": [
    {
     "name": "stdout",
     "output_type": "stream",
     "text": [
      "(5216, 64, 64, 3)\n",
      "(5216,)\n",
      "(624, 64, 64, 3)\n",
      "(624,)\n"
     ]
    }
   ],
   "source": [
    "# npyファイルを読み込み\n",
    "X_train = np.load(train_path + 'X_train.npy')\n",
    "y_train = np.load(train_path + 'y_train.npy')\n",
    "X_test = np.load(test_path + 'X_test.npy')\n",
    "y_test = np.load(test_path + 'y_test.npy')\n",
    "\n",
    "# サイズの確認\n",
    "print(X_train.shape)\n",
    "print(y_train.shape)\n",
    "print(X_test.shape)\n",
    "print(y_test.shape)"
   ]
  },
  {
   "cell_type": "code",
   "execution_count": 4,
   "metadata": {},
   "outputs": [],
   "source": [
    "# Sequentialインスタンス生成\n",
    "model = Sequential()"
   ]
  },
  {
   "cell_type": "markdown",
   "metadata": {},
   "source": [
    "# 入力と畳み込み層"
   ]
  },
  {
   "cell_type": "code",
   "execution_count": 5,
   "metadata": {},
   "outputs": [
    {
     "name": "stdout",
     "output_type": "stream",
     "text": [
      "WARNING:tensorflow:From C:\\Users\\4009953\\AppData\\Local\\Continuum\\anaconda3\\lib\\site-packages\\tensorflow\\python\\framework\\op_def_library.py:263: colocate_with (from tensorflow.python.framework.ops) is deprecated and will be removed in a future version.\n",
      "Instructions for updating:\n",
      "Colocations handled automatically by placer.\n"
     ]
    }
   ],
   "source": [
    "# 入力層と畳み込み層\n",
    "model.add(Conv2D(32, kernel_size=(3, 3),\n",
    "                 activation='relu',\n",
    "                 input_shape=(64,64,3)))"
   ]
  },
  {
   "cell_type": "markdown",
   "metadata": {},
   "source": [
    "## プール層とドロップアウト"
   ]
  },
  {
   "cell_type": "code",
   "execution_count": 6,
   "metadata": {},
   "outputs": [
    {
     "name": "stdout",
     "output_type": "stream",
     "text": [
      "WARNING:tensorflow:From C:\\Users\\4009953\\AppData\\Local\\Continuum\\anaconda3\\lib\\site-packages\\keras\\backend\\tensorflow_backend.py:3445: calling dropout (from tensorflow.python.ops.nn_ops) with keep_prob is deprecated and will be removed in a future version.\n",
      "Instructions for updating:\n",
      "Please use `rate` instead of `keep_prob`. Rate should be set to `rate = 1 - keep_prob`.\n"
     ]
    }
   ],
   "source": [
    "# プール層の追加\n",
    "model.add(MaxPooling2D(pool_size=(2, 2)))\n",
    "\n",
    "# ドロップアウトの追加\n",
    "model.add(Dropout(0.25))"
   ]
  },
  {
   "cell_type": "markdown",
   "metadata": {},
   "source": [
    "## 全結合層 x 2（Flatten + Dense）"
   ]
  },
  {
   "cell_type": "code",
   "execution_count": 7,
   "metadata": {},
   "outputs": [],
   "source": [
    "# 全結合層\n",
    "model.add(Flatten())\n",
    "model.add(Dense(128, activation='relu'))\n",
    "\n",
    "# ドロップアウト\n",
    "model.add(Dropout(0.33))"
   ]
  },
  {
   "cell_type": "markdown",
   "metadata": {},
   "source": [
    "## 出力層"
   ]
  },
  {
   "cell_type": "code",
   "execution_count": 8,
   "metadata": {},
   "outputs": [],
   "source": [
    "model.add(Dense(1, activation='sigmoid'))"
   ]
  },
  {
   "cell_type": "markdown",
   "metadata": {},
   "source": [
    "## モデルの確認"
   ]
  },
  {
   "cell_type": "code",
   "execution_count": 9,
   "metadata": {},
   "outputs": [
    {
     "name": "stdout",
     "output_type": "stream",
     "text": [
      "_________________________________________________________________\n",
      "Layer (type)                 Output Shape              Param #   \n",
      "=================================================================\n",
      "conv2d_1 (Conv2D)            (None, 62, 62, 32)        896       \n",
      "_________________________________________________________________\n",
      "max_pooling2d_1 (MaxPooling2 (None, 31, 31, 32)        0         \n",
      "_________________________________________________________________\n",
      "dropout_1 (Dropout)          (None, 31, 31, 32)        0         \n",
      "_________________________________________________________________\n",
      "flatten_1 (Flatten)          (None, 30752)             0         \n",
      "_________________________________________________________________\n",
      "dense_1 (Dense)              (None, 128)               3936384   \n",
      "_________________________________________________________________\n",
      "dropout_2 (Dropout)          (None, 128)               0         \n",
      "_________________________________________________________________\n",
      "dense_2 (Dense)              (None, 1)                 129       \n",
      "=================================================================\n",
      "Total params: 3,937,409\n",
      "Trainable params: 3,937,409\n",
      "Non-trainable params: 0\n",
      "_________________________________________________________________\n"
     ]
    }
   ],
   "source": [
    "model.summary()"
   ]
  },
  {
   "cell_type": "markdown",
   "metadata": {},
   "source": [
    "## モデルのコンパイル\n",
    "\n",
    "二項分類のため、損失関数は「binary_crossentropy」を使い、\n",
    "最適化関数は「Adam」を使います。\n",
    "\n",
    "「Adam」は Stochastic Gradient Descent（確率的勾配降下法）の拡張版の最適化関数。  \n",
    "CNNの最適化関数は、「Adam」あるいは「SGD（確率的勾配降下法）」を利用するのが一般的。  "
   ]
  },
  {
   "cell_type": "code",
   "execution_count": 10,
   "metadata": {},
   "outputs": [],
   "source": [
    "model.compile(loss='binary_crossentropy',\n",
    "              optimizer=Adam(lr=0.00001),\n",
    "              metrics=['accuracy'])"
   ]
  },
  {
   "cell_type": "markdown",
   "metadata": {},
   "source": [
    "## モデルの訓練（Train）"
   ]
  },
  {
   "cell_type": "code",
   "execution_count": 11,
   "metadata": {},
   "outputs": [],
   "source": [
    "# EarlyStoppingの設定\n",
    "callbacks = EarlyStopping(monitor='val_loss', patience=5)"
   ]
  },
  {
   "cell_type": "code",
   "execution_count": 12,
   "metadata": {},
   "outputs": [
    {
     "name": "stdout",
     "output_type": "stream",
     "text": [
      "WARNING:tensorflow:From C:\\Users\\4009953\\AppData\\Local\\Continuum\\anaconda3\\lib\\site-packages\\tensorflow\\python\\ops\\math_ops.py:3066: to_int32 (from tensorflow.python.ops.math_ops) is deprecated and will be removed in a future version.\n",
      "Instructions for updating:\n",
      "Use tf.cast instead.\n",
      "Train on 5216 samples, validate on 624 samples\n",
      "Epoch 1/20\n",
      "5216/5216 [==============================] - 15s 3ms/step - loss: 0.5282 - acc: 0.7416 - val_loss: 0.5877 - val_acc: 0.6282\n",
      "Epoch 2/20\n",
      "5216/5216 [==============================] - 14s 3ms/step - loss: 0.3935 - acc: 0.8330 - val_loss: 0.4708 - val_acc: 0.7692\n",
      "Epoch 3/20\n",
      "5216/5216 [==============================] - 14s 3ms/step - loss: 0.3111 - acc: 0.8890 - val_loss: 0.4611 - val_acc: 0.7516\n",
      "Epoch 4/20\n",
      "5216/5216 [==============================] - 14s 3ms/step - loss: 0.2594 - acc: 0.9087 - val_loss: 0.4040 - val_acc: 0.7917\n",
      "Epoch 5/20\n",
      "5216/5216 [==============================] - 14s 3ms/step - loss: 0.2282 - acc: 0.9254 - val_loss: 0.4911 - val_acc: 0.7452\n",
      "Epoch 6/20\n",
      "5216/5216 [==============================] - 14s 3ms/step - loss: 0.2015 - acc: 0.9302 - val_loss: 0.3622 - val_acc: 0.8205\n",
      "Epoch 7/20\n",
      "5216/5216 [==============================] - 14s 3ms/step - loss: 0.1845 - acc: 0.9379 - val_loss: 0.4220 - val_acc: 0.7837\n",
      "Epoch 8/20\n",
      "5216/5216 [==============================] - 14s 3ms/step - loss: 0.1713 - acc: 0.9402 - val_loss: 0.3952 - val_acc: 0.8029\n",
      "Epoch 9/20\n",
      "5216/5216 [==============================] - 14s 3ms/step - loss: 0.1611 - acc: 0.9431 - val_loss: 0.4369 - val_acc: 0.7885\n",
      "Epoch 10/20\n",
      "5216/5216 [==============================] - 14s 3ms/step - loss: 0.1486 - acc: 0.9505 - val_loss: 0.4808 - val_acc: 0.7740\n",
      "Epoch 11/20\n",
      "5216/5216 [==============================] - 14s 3ms/step - loss: 0.1409 - acc: 0.9542 - val_loss: 0.5515 - val_acc: 0.7420\n"
     ]
    },
    {
     "data": {
      "text/plain": [
       "<keras.callbacks.History at 0x2cdf54c2b38>"
      ]
     },
     "execution_count": 12,
     "metadata": {},
     "output_type": "execute_result"
    }
   ],
   "source": [
    "# モデル訓練\n",
    "model.fit(X_train, y_train, validation_data = (X_test, y_test), callbacks=[callbacks], epochs=20)"
   ]
  },
  {
   "cell_type": "markdown",
   "metadata": {},
   "source": [
    "## テストデータで推測"
   ]
  },
  {
   "cell_type": "code",
   "execution_count": 13,
   "metadata": {},
   "outputs": [],
   "source": [
    "# ベースラインモデル テストデータで推測結果出力\n",
    "base_y_pred = model.predict_classes(X_test)"
   ]
  },
  {
   "cell_type": "code",
   "execution_count": 14,
   "metadata": {},
   "outputs": [
    {
     "data": {
      "text/plain": [
       "array([[389,   1],\n",
       "       [160,  74]], dtype=int64)"
      ]
     },
     "execution_count": 14,
     "metadata": {},
     "output_type": "execute_result"
    }
   ],
   "source": [
    "# 混同行列を算出\n",
    "confusion_matrix(y_test,base_y_pred, labels=[1, 0])"
   ]
  },
  {
   "cell_type": "code",
   "execution_count": 15,
   "metadata": {},
   "outputs": [
    {
     "name": "stdout",
     "output_type": "stream",
     "text": [
      "正解率： 0.7419871794871795\n",
      "適合率： 0.7085610200364298\n",
      "再現率： 0.9974358974358974\n"
     ]
    }
   ],
   "source": [
    "# 評価指標 算出\n",
    "print('正解率：', accuracy_score(y_test, base_y_pred))\n",
    "print('適合率：', precision_score(y_test, base_y_pred))\n",
    "print('再現率：', recall_score(y_test, base_y_pred))"
   ]
  },
  {
   "cell_type": "code",
   "execution_count": null,
   "metadata": {},
   "outputs": [],
   "source": []
  }
 ],
 "metadata": {
  "kernelspec": {
   "display_name": "Python 3",
   "language": "python",
   "name": "python3"
  },
  "language_info": {
   "codemirror_mode": {
    "name": "ipython",
    "version": 3
   },
   "file_extension": ".py",
   "mimetype": "text/x-python",
   "name": "python",
   "nbconvert_exporter": "python",
   "pygments_lexer": "ipython3",
   "version": "3.7.3"
  }
 },
 "nbformat": 4,
 "nbformat_minor": 2
}
