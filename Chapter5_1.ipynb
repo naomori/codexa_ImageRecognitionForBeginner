{
 "cells": [
  {
   "cell_type": "markdown",
   "metadata": {},
   "source": [
    "# 5.1. NDLラボ　ひらがな画像データ"
   ]
  },
  {
   "cell_type": "code",
   "execution_count": 1,
   "metadata": {},
   "outputs": [
    {
     "name": "stderr",
     "output_type": "stream",
     "text": [
      "Using TensorFlow backend.\n"
     ]
    }
   ],
   "source": [
    "# データ処理ライブラリ\n",
    "import numpy as np\n",
    "import pandas as pd \n",
    "from sklearn.preprocessing import LabelEncoder\n",
    "from sklearn.model_selection import train_test_split\n",
    "from sklearn.metrics import confusion_matrix, accuracy_score\n",
    "\n",
    "# 画像処理ライブラリ\n",
    "import cv2\n",
    "\n",
    "# 可視化ライブラリ\n",
    "import matplotlib.pyplot as plt\n",
    "\n",
    "# Keras\n",
    "import keras as ks\n",
    "from keras.models import Sequential\n",
    "from keras.layers import Dense, Dropout, Flatten, Conv2D, MaxPooling2D\n",
    "from keras.utils import np_utils\n",
    "\n",
    "# Pythonモジュール\n",
    "import os\n",
    "import glob\n",
    "\n",
    "# 表示設定\n",
    "pd.options.display.max_rows = 78\n",
    "pd.options.display.max_columns = 78"
   ]
  },
  {
   "cell_type": "code",
   "execution_count": 2,
   "metadata": {},
   "outputs": [
    {
     "data": {
      "text/html": [
       "<div>\n",
       "<style scoped>\n",
       "    .dataframe tbody tr th:only-of-type {\n",
       "        vertical-align: middle;\n",
       "    }\n",
       "\n",
       "    .dataframe tbody tr th {\n",
       "        vertical-align: top;\n",
       "    }\n",
       "\n",
       "    .dataframe thead th {\n",
       "        text-align: right;\n",
       "    }\n",
       "</style>\n",
       "<table border=\"1\" class=\"dataframe\">\n",
       "  <thead>\n",
       "    <tr style=\"text-align: right;\">\n",
       "      <th></th>\n",
       "      <th>文字</th>\n",
       "      <th>ディレクトリ</th>\n",
       "      <th>画像数</th>\n",
       "    </tr>\n",
       "  </thead>\n",
       "  <tbody>\n",
       "    <tr>\n",
       "      <th>0</th>\n",
       "      <td>あ</td>\n",
       "      <td>U3042</td>\n",
       "      <td>1,208</td>\n",
       "    </tr>\n",
       "    <tr>\n",
       "      <th>1</th>\n",
       "      <td>い</td>\n",
       "      <td>U3044</td>\n",
       "      <td>1,122</td>\n",
       "    </tr>\n",
       "    <tr>\n",
       "      <th>2</th>\n",
       "      <td>う</td>\n",
       "      <td>U3046</td>\n",
       "      <td>1,148</td>\n",
       "    </tr>\n",
       "    <tr>\n",
       "      <th>3</th>\n",
       "      <td>え</td>\n",
       "      <td>U3048</td>\n",
       "      <td>1,077</td>\n",
       "    </tr>\n",
       "    <tr>\n",
       "      <th>4</th>\n",
       "      <td>お</td>\n",
       "      <td>U304A</td>\n",
       "      <td>1,283</td>\n",
       "    </tr>\n",
       "  </tbody>\n",
       "</table>\n",
       "</div>"
      ],
      "text/plain": [
       "  文字 ディレクトリ    画像数\n",
       "0  あ  U3042  1,208\n",
       "1  い  U3044  1,122\n",
       "2  う  U3046  1,148\n",
       "3  え  U3048  1,077\n",
       "4  お  U304A  1,283"
      ]
     },
     "execution_count": 2,
     "metadata": {},
     "output_type": "execute_result"
    }
   ],
   "source": [
    "# HiraganaKey.csvの読み込み\n",
    "labels = pd.read_csv('HiraganaKey.csv')\n",
    "labels.head()"
   ]
  },
  {
   "cell_type": "code",
   "execution_count": 3,
   "metadata": {},
   "outputs": [],
   "source": [
    "# 画像データのパスを指定\n",
    "path = \"./hiragana73/\""
   ]
  },
  {
   "cell_type": "code",
   "execution_count": 4,
   "metadata": {},
   "outputs": [
    {
     "data": {
      "text/plain": [
       "['U3042', 'U3044', 'U3046', 'U3048', 'U304A']"
      ]
     },
     "execution_count": 4,
     "metadata": {},
     "output_type": "execute_result"
    }
   ],
   "source": [
    "# hiragana73内のエントリを取得\n",
    "dir_list = []\n",
    "for test in os.listdir(path):\n",
    "    dir_list.append(test)\n",
    "\n",
    "# 最初の5つを表示\n",
    "dir_list[0:5]"
   ]
  },
  {
   "cell_type": "code",
   "execution_count": 5,
   "metadata": {},
   "outputs": [
    {
     "name": "stdout",
     "output_type": "stream",
     "text": [
      "1208\n"
     ]
    },
    {
     "data": {
      "text/plain": [
       "['./hiragana73/U3042\\\\1900_753325_0060.png',\n",
       " './hiragana73/U3042\\\\1900_754949_0023.png',\n",
       " './hiragana73/U3042\\\\1900_758495_0075.png',\n",
       " './hiragana73/U3042\\\\1900_761460_0029.png',\n",
       " './hiragana73/U3042\\\\1900_766994_0030.png']"
      ]
     },
     "execution_count": 5,
     "metadata": {},
     "output_type": "execute_result"
    }
   ],
   "source": [
    "# U3081（平仮名 め）の画像ファイル名を取得\n",
    "me_imgs_path = path + dir_list[0]\n",
    "me_file_name = sorted(glob.glob(me_imgs_path + '/' + '*.png'))\n",
    "print(len(me_file_name))\n",
    "me_file_name[0:5]"
   ]
  },
  {
   "cell_type": "code",
   "execution_count": 6,
   "metadata": {},
   "outputs": [],
   "source": [
    "# ファイル取得用の空のリストを作成\n",
    "files = []\n",
    "moji = []\n",
    "\n",
    "# 各画像データのファイル名を取得\n",
    "for foldername in os.listdir(path):\n",
    "    imgs_path = path + foldername\n",
    "    imgs = sorted(glob.glob(imgs_path + '/' + '*.png'))\n",
    "    \n",
    "    for name in imgs:\n",
    "        files.append(str(name))\n",
    "        moji.append(str(labels['文字'][labels['ディレクトリ'] == foldername].values[0]))\n",
    "\n",
    "files_df = pd.DataFrame({'Image':files, 'Label':moji}, index=None)"
   ]
  },
  {
   "cell_type": "code",
   "execution_count": 7,
   "metadata": {},
   "outputs": [
    {
     "data": {
      "text/plain": [
       "(80000, 2)"
      ]
     },
     "execution_count": 7,
     "metadata": {},
     "output_type": "execute_result"
    }
   ],
   "source": [
    "# データのサイズを確認\n",
    "files_df.shape"
   ]
  },
  {
   "cell_type": "code",
   "execution_count": 9,
   "metadata": {},
   "outputs": [
    {
     "name": "stdout",
     "output_type": "stream",
     "text": [
      "Label- あ\n",
      "Image Shape- (48, 48)\n"
     ]
    },
    {
     "data": {
      "image/png": "[encoded data removed]",
      "text/plain": [
       "<Figure size 432x288 with 1 Axes>"
      ]
     },
     "metadata": {
      "needs_background": "light"
     },
     "output_type": "display_data"
    }
   ],
   "source": [
    "# 10番目のレコードの画像ファイルを読み込み\n",
    "testchar = cv2.imread(files_df['Image'][10],0)\n",
    "\n",
    "# 読み込んだ画像データを表示\n",
    "plt.imshow(testchar)\n",
    "print('Label-',files_df['Label'][10])\n",
    "print('Image Shape-',testchar.shape)\n",
    "plt.title('Image- Index (10)')\n",
    "plt.show()"
   ]
  },
  {
   "cell_type": "code",
   "execution_count": 10,
   "metadata": {},
   "outputs": [],
   "source": [
    "# 各画像パス名のデータをシャッフル\n",
    "files_df = files_df.sample(frac=1, random_state=42).reset_index(drop=True)"
   ]
  },
  {
   "cell_type": "code",
   "execution_count": 11,
   "metadata": {},
   "outputs": [],
   "source": [
    "datalist = []\n",
    "\n",
    "# 画像データの読み込み\n",
    "for i in range(80000):\n",
    "    character = cv2.imread(files_df['Image'][i],0)\n",
    "    character = character.reshape(2304)\n",
    "    datalist.append(character)"
   ]
  },
  {
   "cell_type": "code",
   "execution_count": 12,
   "metadata": {},
   "outputs": [],
   "source": [
    "# リストからNumpy配列へ変換\n",
    "charfeatures = np.array(datalist)"
   ]
  },
  {
   "cell_type": "code",
   "execution_count": 13,
   "metadata": {},
   "outputs": [
    {
     "data": {
      "text/plain": [
       "(80000, 2304)"
      ]
     },
     "execution_count": 13,
     "metadata": {},
     "output_type": "execute_result"
    }
   ],
   "source": [
    "# データフレームのサイズを確認\n",
    "charfeatures.shape"
   ]
  },
  {
   "cell_type": "code",
   "execution_count": 14,
   "metadata": {},
   "outputs": [],
   "source": [
    "# Numpy配列をnpyファイルとして書き出し\n",
    "np.save(path + 'charfeatures.npy', charfeatures)"
   ]
  },
  {
   "cell_type": "code",
   "execution_count": 15,
   "metadata": {},
   "outputs": [],
   "source": [
    "# files_dfをCSVファイルとして書き出し\n",
    "files_df.to_csv(path + 'files_df.csv', index=False)"
   ]
  },
  {
   "cell_type": "code",
   "execution_count": 16,
   "metadata": {},
   "outputs": [
    {
     "name": "stdout",
     "output_type": "stream",
     "text": [
      "(80000, 2304)\n"
     ]
    }
   ],
   "source": [
    "# charfeatures.npyを読み込み\n",
    "charfeatures_load = np.load(path + 'charfeatures.npy')\n",
    "\n",
    "# サイズを確認\n",
    "print(charfeatures_load.shape)"
   ]
  },
  {
   "cell_type": "code",
   "execution_count": 17,
   "metadata": {},
   "outputs": [
    {
     "data": {
      "text/html": [
       "<div>\n",
       "<style scoped>\n",
       "    .dataframe tbody tr th:only-of-type {\n",
       "        vertical-align: middle;\n",
       "    }\n",
       "\n",
       "    .dataframe tbody tr th {\n",
       "        vertical-align: top;\n",
       "    }\n",
       "\n",
       "    .dataframe thead th {\n",
       "        text-align: right;\n",
       "    }\n",
       "</style>\n",
       "<table border=\"1\" class=\"dataframe\">\n",
       "  <thead>\n",
       "    <tr style=\"text-align: right;\">\n",
       "      <th></th>\n",
       "      <th>Image</th>\n",
       "      <th>Label</th>\n",
       "    </tr>\n",
       "  </thead>\n",
       "  <tbody>\n",
       "    <tr>\n",
       "      <th>0</th>\n",
       "      <td>./hiragana73/U306F\\1929_1452973_0089.png</td>\n",
       "      <td>は</td>\n",
       "    </tr>\n",
       "    <tr>\n",
       "      <th>1</th>\n",
       "      <td>./hiragana73/U306D\\1914_908938_0044.png</td>\n",
       "      <td>ね</td>\n",
       "    </tr>\n",
       "    <tr>\n",
       "      <th>2</th>\n",
       "      <td>./hiragana73/U308F\\1926_938757_0025.png</td>\n",
       "      <td>わ</td>\n",
       "    </tr>\n",
       "    <tr>\n",
       "      <th>3</th>\n",
       "      <td>./hiragana73/U308B\\1918_1210785_0064.png</td>\n",
       "      <td>る</td>\n",
       "    </tr>\n",
       "    <tr>\n",
       "      <th>4</th>\n",
       "      <td>./hiragana73/U306F\\1914_1239432_0055.png</td>\n",
       "      <td>は</td>\n",
       "    </tr>\n",
       "  </tbody>\n",
       "</table>\n",
       "</div>"
      ],
      "text/plain": [
       "                                      Image Label\n",
       "0  ./hiragana73/U306F\\1929_1452973_0089.png     は\n",
       "1   ./hiragana73/U306D\\1914_908938_0044.png     ね\n",
       "2   ./hiragana73/U308F\\1926_938757_0025.png     わ\n",
       "3  ./hiragana73/U308B\\1918_1210785_0064.png     る\n",
       "4  ./hiragana73/U306F\\1914_1239432_0055.png     は"
      ]
     },
     "execution_count": 17,
     "metadata": {},
     "output_type": "execute_result"
    }
   ],
   "source": [
    "# files_df.csvを読み込み\n",
    "files_df_load = pd.read_csv(path + 'files_df.csv')\n",
    "\n",
    "# 最初の5行を表示\n",
    "files_df_load.head()"
   ]
  },
  {
   "cell_type": "code",
   "execution_count": null,
   "metadata": {},
   "outputs": [],
   "source": []
  }
 ],
 "metadata": {
  "kernelspec": {
   "display_name": "Python 3",
   "language": "python",
   "name": "python3"
  },
  "language_info": {
   "codemirror_mode": {
    "name": "ipython",
    "version": 3
   },
   "file_extension": ".py",
   "mimetype": "text/x-python",
   "name": "python",
   "nbconvert_exporter": "python",
   "pygments_lexer": "ipython3",
   "version": "3.7.3"
  }
 },
 "nbformat": 4,
 "nbformat_minor": 2
}
