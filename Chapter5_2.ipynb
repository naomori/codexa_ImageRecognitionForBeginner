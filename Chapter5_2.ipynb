{
 "cells": [
  {
   "cell_type": "markdown",
   "metadata": {},
   "source": [
    "# 画像データの前処理"
   ]
  },
  {
   "cell_type": "code",
   "execution_count": 1,
   "metadata": {},
   "outputs": [
    {
     "name": "stderr",
     "output_type": "stream",
     "text": [
      "Using TensorFlow backend.\n"
     ]
    }
   ],
   "source": [
    "# データ処理ライブラリ\n",
    "import numpy as np\n",
    "import pandas as pd \n",
    "from sklearn.preprocessing import LabelEncoder\n",
    "from sklearn.model_selection import train_test_split\n",
    "from sklearn.metrics import confusion_matrix, accuracy_score\n",
    "\n",
    "# 画像処理ライブラリ\n",
    "import cv2\n",
    "\n",
    "# 可視化ライブラリ\n",
    "import matplotlib.pyplot as plt\n",
    "\n",
    "# Keras\n",
    "import keras as ks\n",
    "from keras.models import Sequential\n",
    "from keras.layers import Dense, Dropout, Flatten, Conv2D, MaxPooling2D\n",
    "from keras.utils import np_utils\n",
    "\n",
    "# Pythonモジュール\n",
    "import os\n",
    "import glob\n",
    "\n",
    "# 表示設定\n",
    "pd.options.display.max_rows = 78\n",
    "pd.options.display.max_columns = 78\n",
    "\n",
    "# pathの設定\n",
    "path = \"./hiragana73/\"\n",
    "\n",
    "# ファイルの読み込み\n",
    "charfeatures = np.load(path + 'charfeatures.npy')\n",
    "files_df = pd.read_csv(path + 'files_df.csv')"
   ]
  },
  {
   "cell_type": "code",
   "execution_count": 2,
   "metadata": {},
   "outputs": [
    {
     "data": {
      "text/plain": [
       "(80000, 2304)"
      ]
     },
     "execution_count": 2,
     "metadata": {},
     "output_type": "execute_result"
    }
   ],
   "source": [
    "# 画像データのサイズを確認\n",
    "charfeatures.shape"
   ]
  },
  {
   "cell_type": "code",
   "execution_count": 3,
   "metadata": {},
   "outputs": [
    {
     "data": {
      "text/html": [
       "<div>\n",
       "<style scoped>\n",
       "    .dataframe tbody tr th:only-of-type {\n",
       "        vertical-align: middle;\n",
       "    }\n",
       "\n",
       "    .dataframe tbody tr th {\n",
       "        vertical-align: top;\n",
       "    }\n",
       "\n",
       "    .dataframe thead th {\n",
       "        text-align: right;\n",
       "    }\n",
       "</style>\n",
       "<table border=\"1\" class=\"dataframe\">\n",
       "  <thead>\n",
       "    <tr style=\"text-align: right;\">\n",
       "      <th></th>\n",
       "      <th>Image</th>\n",
       "      <th>Label</th>\n",
       "    </tr>\n",
       "  </thead>\n",
       "  <tbody>\n",
       "    <tr>\n",
       "      <th>0</th>\n",
       "      <td>./hiragana73/U306F\\1929_1452973_0089.png</td>\n",
       "      <td>は</td>\n",
       "    </tr>\n",
       "    <tr>\n",
       "      <th>1</th>\n",
       "      <td>./hiragana73/U306D\\1914_908938_0044.png</td>\n",
       "      <td>ね</td>\n",
       "    </tr>\n",
       "    <tr>\n",
       "      <th>2</th>\n",
       "      <td>./hiragana73/U308F\\1926_938757_0025.png</td>\n",
       "      <td>わ</td>\n",
       "    </tr>\n",
       "    <tr>\n",
       "      <th>3</th>\n",
       "      <td>./hiragana73/U308B\\1918_1210785_0064.png</td>\n",
       "      <td>る</td>\n",
       "    </tr>\n",
       "    <tr>\n",
       "      <th>4</th>\n",
       "      <td>./hiragana73/U306F\\1914_1239432_0055.png</td>\n",
       "      <td>は</td>\n",
       "    </tr>\n",
       "  </tbody>\n",
       "</table>\n",
       "</div>"
      ],
      "text/plain": [
       "                                      Image Label\n",
       "0  ./hiragana73/U306F\\1929_1452973_0089.png     は\n",
       "1   ./hiragana73/U306D\\1914_908938_0044.png     ね\n",
       "2   ./hiragana73/U308F\\1926_938757_0025.png     わ\n",
       "3  ./hiragana73/U308B\\1918_1210785_0064.png     る\n",
       "4  ./hiragana73/U306F\\1914_1239432_0055.png     は"
      ]
     },
     "execution_count": 3,
     "metadata": {},
     "output_type": "execute_result"
    }
   ],
   "source": [
    "# files_dfの最初の5行を確認\n",
    "files_df.head()"
   ]
  },
  {
   "cell_type": "code",
   "execution_count": 4,
   "metadata": {},
   "outputs": [
    {
     "data": {
      "text/plain": [
       "ま    1285\n",
       "ん    1285\n",
       "そ    1285\n",
       "や    1285\n",
       "し    1285\n",
       "ふ    1285\n",
       "た    1285\n",
       "お    1283\n",
       "わ    1283\n",
       "す    1282\n",
       "ゆ    1282\n",
       "く    1266\n",
       "さ    1261\n",
       "に    1260\n",
       "か    1259\n",
       "を    1254\n",
       "は    1247\n",
       "り    1244\n",
       "れ    1238\n",
       "め    1233\n",
       "な    1233\n",
       "て    1213\n",
       "あ    1208\n",
       "が    1200\n",
       "る    1190\n",
       "も    1187\n",
       "と    1184\n",
       "で    1178\n",
       "よ    1166\n",
       "せ    1165\n",
       "の    1160\n",
       "け    1155\n",
       "ぶ    1149\n",
       "う    1148\n",
       "み    1142\n",
       "つ    1142\n",
       "ど    1134\n",
       "ぢ    1132\n",
       "ね    1126\n",
       "い    1122\n",
       "き    1121\n",
       "だ    1116\n",
       "ほ    1115\n",
       "こ    1115\n",
       "ぜ    1115\n",
       "ら    1114\n",
       "へ    1114\n",
       "べ    1109\n",
       "ば    1105\n",
       "じ    1099\n",
       "ぬ    1093\n",
       "ぎ    1091\n",
       "づ    1080\n",
       "ご    1078\n",
       "え    1077\n",
       "ひ    1074\n",
       "ざ    1070\n",
       "ろ    1069\n",
       "ぞ    1066\n",
       "む    1058\n",
       "げ    1058\n",
       "ゐ    1053\n",
       "ち    1052\n",
       "ず    1046\n",
       "び    1045\n",
       "ぼ    1044\n",
       "ぐ    1043\n",
       "ゑ    1030\n",
       "ぺ     268\n",
       "ぱ     262\n",
       "ぽ     261\n",
       "ぴ     126\n",
       "ぷ     112\n",
       "Name: Label, dtype: int64"
      ]
     },
     "execution_count": 4,
     "metadata": {},
     "output_type": "execute_result"
    }
   ],
   "source": [
    "# ターゲットデータの作成\n",
    "y = files_df['Label']\n",
    "y.value_counts()"
   ]
  },
  {
   "cell_type": "markdown",
   "metadata": {},
   "source": [
    "### ターゲットクラスのひらがなの文字列を数値へ変換する"
   ]
  },
  {
   "cell_type": "code",
   "execution_count": 5,
   "metadata": {},
   "outputs": [
    {
     "data": {
      "text/plain": [
       "LabelEncoder()"
      ]
     },
     "execution_count": 5,
     "metadata": {},
     "output_type": "execute_result"
    }
   ],
   "source": [
    "# ターゲットデータの前処理\n",
    "encoder = LabelEncoder()\n",
    "encoder.fit(y)"
   ]
  },
  {
   "cell_type": "code",
   "execution_count": 6,
   "metadata": {},
   "outputs": [
    {
     "data": {
      "text/plain": [
       "array(['あ', 'い', 'う', 'え', 'お', 'か', 'が', 'き', 'ぎ', 'く', 'ぐ', 'け', 'げ',\n",
       "       'こ', 'ご', 'さ', 'ざ', 'し', 'じ', 'す', 'ず', 'せ', 'ぜ', 'そ', 'ぞ', 'た',\n",
       "       'だ', 'ち', 'ぢ', 'つ', 'づ', 'て', 'で', 'と', 'ど', 'な', 'に', 'ぬ', 'ね',\n",
       "       'の', 'は', 'ば', 'ぱ', 'ひ', 'び', 'ぴ', 'ふ', 'ぶ', 'ぷ', 'へ', 'べ', 'ぺ',\n",
       "       'ほ', 'ぼ', 'ぽ', 'ま', 'み', 'む', 'め', 'も', 'や', 'ゆ', 'よ', 'ら', 'り',\n",
       "       'る', 'れ', 'ろ', 'わ', 'ゐ', 'ゑ', 'を', 'ん'], dtype=object)"
      ]
     },
     "execution_count": 6,
     "metadata": {},
     "output_type": "execute_result"
    }
   ],
   "source": [
    "encoder.classes_"
   ]
  },
  {
   "cell_type": "code",
   "execution_count": 7,
   "metadata": {},
   "outputs": [
    {
     "name": "stdout",
     "output_type": "stream",
     "text": [
      "{'あ': 0, 'い': 1, 'う': 2, 'え': 3, 'お': 4, 'か': 5, 'が': 6, 'き': 7, 'ぎ': 8, 'く': 9, 'ぐ': 10, 'け': 11, 'げ': 12, 'こ': 13, 'ご': 14, 'さ': 15, 'ざ': 16, 'し': 17, 'じ': 18, 'す': 19, 'ず': 20, 'せ': 21, 'ぜ': 22, 'そ': 23, 'ぞ': 24, 'た': 25, 'だ': 26, 'ち': 27, 'ぢ': 28, 'つ': 29, 'づ': 30, 'て': 31, 'で': 32, 'と': 33, 'ど': 34, 'な': 35, 'に': 36, 'ぬ': 37, 'ね': 38, 'の': 39, 'は': 40, 'ば': 41, 'ぱ': 42, 'ひ': 43, 'び': 44, 'ぴ': 45, 'ふ': 46, 'ぶ': 47, 'ぷ': 48, 'へ': 49, 'べ': 50, 'ぺ': 51, 'ほ': 52, 'ぼ': 53, 'ぽ': 54, 'ま': 55, 'み': 56, 'む': 57, 'め': 58, 'も': 59, 'や': 60, 'ゆ': 61, 'よ': 62, 'ら': 63, 'り': 64, 'る': 65, 'れ': 66, 'ろ': 67, 'わ': 68, 'ゐ': 69, 'ゑ': 70, 'を': 71, 'ん': 72}\n"
     ]
    }
   ],
   "source": [
    "# 平仮名と数字のマッピングデータを作成\n",
    "encoder_character_mapping = dict(zip(encoder.classes_, encoder.transform(encoder.classes_)))\n",
    "print(encoder_character_mapping)"
   ]
  },
  {
   "cell_type": "code",
   "execution_count": 8,
   "metadata": {},
   "outputs": [
    {
     "name": "stdout",
     "output_type": "stream",
     "text": [
      "-------変更前-------\n",
      "0    は\n",
      "1    ね\n",
      "2    わ\n",
      "3    る\n",
      "4    は\n",
      "Name: Label, dtype: object\n",
      "-------変更後-------\n",
      "[40 38 68 65 40]\n"
     ]
    }
   ],
   "source": [
    "# 変更前\n",
    "print('-------変更前-------')\n",
    "print(y[0:5])\n",
    "\n",
    "# ラベルエンコーダーで変換\n",
    "y_encoded = encoder.transform(y)\n",
    "\n",
    "# 変更後\n",
    "print('-------変更後-------')\n",
    "print(y_encoded[0:5])"
   ]
  },
  {
   "cell_type": "code",
   "execution_count": 9,
   "metadata": {},
   "outputs": [
    {
     "data": {
      "text/plain": [
       "40"
      ]
     },
     "execution_count": 9,
     "metadata": {},
     "output_type": "execute_result"
    }
   ],
   "source": [
    "# エンコードマッピングで確認\n",
    "encoder_character_mapping[\"は\"]"
   ]
  },
  {
   "cell_type": "markdown",
   "metadata": {},
   "source": [
    "### 訓練データとテストデータに分割する"
   ]
  },
  {
   "cell_type": "code",
   "execution_count": 10,
   "metadata": {},
   "outputs": [
    {
     "name": "stdout",
     "output_type": "stream",
     "text": [
      "(10000, 2304)\n",
      "(10000,)\n",
      "(10000, 2304)\n",
      "(10000,)\n"
     ]
    }
   ],
   "source": [
    "# 訓練/テストデータ 分割\n",
    "X_train, X_test, y_train, y_test = train_test_split(charfeatures, y_encoded, train_size=10000, test_size=10000, random_state=42)\n",
    "y_eval = y_test.copy()\n",
    "\n",
    "# サイズを確認\n",
    "print(X_train.shape)\n",
    "print(y_train.shape)\n",
    "print(X_test.shape)\n",
    "print(y_test.shape)"
   ]
  },
  {
   "cell_type": "markdown",
   "metadata": {},
   "source": [
    "### 特徴量の正規化（Normalization）"
   ]
  },
  {
   "cell_type": "code",
   "execution_count": 11,
   "metadata": {},
   "outputs": [],
   "source": [
    "# データをfloat32型へ変換\n",
    "X_train = X_train.astype('float32')\n",
    "X_test = X_test.astype('float32')\n",
    "\n",
    "# 正規化\n",
    "X_train /= 255\n",
    "X_test /= 255"
   ]
  },
  {
   "cell_type": "markdown",
   "metadata": {},
   "source": [
    "### データサイズの変更\n",
    "Keras のデフォルトの channels_last (batch, height, width, channles) の形式で訓練を行う。  \n",
    "サイズの変更には numpy の reshape() を使う。"
   ]
  },
  {
   "cell_type": "code",
   "execution_count": 13,
   "metadata": {},
   "outputs": [],
   "source": [
    "# サイズ変更\n",
    "X_train = X_train.reshape(X_train.shape[0], 48, 48, 1)\n",
    "X_test = X_test.reshape(X_test.shape[0], 48, 48, 1)"
   ]
  },
  {
   "cell_type": "code",
   "execution_count": 14,
   "metadata": {},
   "outputs": [
    {
     "name": "stdout",
     "output_type": "stream",
     "text": [
      "61\n"
     ]
    }
   ],
   "source": [
    "# ターゲットデータの確認\n",
    "print(y_train[0])"
   ]
  },
  {
   "cell_type": "code",
   "execution_count": 15,
   "metadata": {},
   "outputs": [],
   "source": [
    "\n",
    "# バイナリーのクラス行列へ変換\n",
    "y_train = np_utils.to_categorical(y_train, 73)\n",
    "y_test = np_utils.to_categorical(y_test, 73)"
   ]
  },
  {
   "cell_type": "code",
   "execution_count": 16,
   "metadata": {},
   "outputs": [
    {
     "data": {
      "text/plain": [
       "array([0., 0., 0., 0., 0., 0., 0., 0., 0., 0., 0., 0., 0., 0., 0., 0., 0.,\n",
       "       0., 0., 0., 0., 0., 0., 0., 0., 0., 0., 0., 0., 0., 0., 0., 0., 0.,\n",
       "       0., 0., 0., 0., 0., 0., 0., 0., 0., 0., 0., 0., 0., 0., 0., 0., 0.,\n",
       "       0., 0., 0., 0., 0., 0., 0., 0., 0., 0., 1., 0., 0., 0., 0., 0., 0.,\n",
       "       0., 0., 0., 0., 0.], dtype=float32)"
      ]
     },
     "execution_count": 16,
     "metadata": {},
     "output_type": "execute_result"
    }
   ],
   "source": [
    "# 確認\n",
    "y_train[0]"
   ]
  },
  {
   "cell_type": "code",
   "execution_count": null,
   "metadata": {},
   "outputs": [],
   "source": []
  }
 ],
 "metadata": {
  "kernelspec": {
   "display_name": "Python 3",
   "language": "python",
   "name": "python3"
  },
  "language_info": {
   "codemirror_mode": {
    "name": "ipython",
    "version": 3
   },
   "file_extension": ".py",
   "mimetype": "text/x-python",
   "name": "python",
   "nbconvert_exporter": "python",
   "pygments_lexer": "ipython3",
   "version": "3.7.3"
  }
 },
 "nbformat": 4,
 "nbformat_minor": 2
}
