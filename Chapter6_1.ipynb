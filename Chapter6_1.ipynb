{
 "cells": [
  {
   "cell_type": "markdown",
   "metadata": {},
   "source": [
    "# データ拡張とは"
   ]
  },
  {
   "cell_type": "markdown",
   "metadata": {},
   "source": [
    "## パターン１：不均衡データ\n",
    "\n",
    "ネガティブクラスがとても多く、ポジティブクラスが極端に少ないなど、\n",
    "データのクラスに偏りがあるデータを不均衡データ（Skewed Data）と呼ぶ。\n",
    "\n",
    "このような場合に、ポジティブクラスの少ないデータを活用して、\n",
    "データを拡張することにより、データセット全体の不均衡性を解消する。"
   ]
  },
  {
   "cell_type": "markdown",
   "metadata": {},
   "source": [
    "## パターン２：推測精度を改善する\n",
    "実際の画像では、画像の寸尺、角度、位置などが均一ではないケースがたくさんある。\n",
    "したがって、データの拡張では、原型をとどめた形で、データを水増し（寸尺、角度、位置などを変える）する。"
   ]
  },
  {
   "cell_type": "code",
   "execution_count": null,
   "metadata": {},
   "outputs": [],
   "source": []
  }
 ],
 "metadata": {
  "kernelspec": {
   "display_name": "Python 3",
   "language": "python",
   "name": "python3"
  },
  "language_info": {
   "codemirror_mode": {
    "name": "ipython",
    "version": 3
   },
   "file_extension": ".py",
   "mimetype": "text/x-python",
   "name": "python",
   "nbconvert_exporter": "python",
   "pygments_lexer": "ipython3",
   "version": "3.7.3"
  }
 },
 "nbformat": 4,
 "nbformat_minor": 2
}
