{
  "nbformat": 4,
  "nbformat_minor": 0,
  "metadata": {
    "colab": {
      "name": "Chapter3-1.ipynb",
      "version": "0.3.2",
      "provenance": [],
      "include_colab_link": true
    },
    "kernelspec": {
      "name": "python3",
      "display_name": "Python 3"
    }
  },
  "cells": [
    {
      "cell_type": "markdown",
      "metadata": {
        "id": "view-in-github",
        "colab_type": "text"
      },
      "source": [
        "<a href=\"https://colab.research.google.com/github/naomori/codexa_ImageRecognitionForBeginner/blob/master/Chapter3_1.ipynb\" target=\"_parent\"><img src=\"https://colab.research.google.com/assets/colab-badge.svg\" alt=\"Open In Colab\"/></a>"
      ]
    },
    {
      "cell_type": "markdown",
      "metadata": {
        "id": "BTyK9da96urH",
        "colab_type": "text"
      },
      "source": [
        "# Chapter 3.1: OpenCV 概要\n",
        "\n",
        "画像の基本処理にに OpenCV を使い、\n",
        "機械学習のモデリングは scikit-learn と keras を使います。"
      ]
    },
    {
      "cell_type": "code",
      "metadata": {
        "id": "2UKGzULP7OX1",
        "colab_type": "code",
        "colab": {
          "base_uri": "https://localhost:8080/",
          "height": 34
        },
        "outputId": "63969926-0bb1-4c41-c6d2-2a8f49f7dcb8"
      },
      "source": [
        "import cv2\n",
        "print(cv2.__version__)"
      ],
      "execution_count": 1,
      "outputs": [
        {
          "output_type": "stream",
          "text": [
            "3.4.3\n"
          ],
          "name": "stdout"
        }
      ]
    },
    {
      "cell_type": "markdown",
      "metadata": {
        "id": "rN7uvsg37Z_G",
        "colab_type": "text"
      },
      "source": [
        "テキストでは version 3.4.2 のようですが、3.4.3 なら大丈夫そうです。\n",
        "\n",
        "ちなみに、最新版は version 4.X だそうです（2018/11 にアップデート）。  \n",
        "また、コード上は 'cv2' を import していますが、OpenCV 3系の Python Bindnig は\n",
        "'cv2' だそうです。なので、問題ありません。"
      ]
    }
  ]
}