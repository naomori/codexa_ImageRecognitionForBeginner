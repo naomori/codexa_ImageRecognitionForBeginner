{
 "cells": [
  {
   "cell_type": "markdown",
   "metadata": {
    "colab_type": "text",
    "id": "view-in-github"
   },
   "source": [
    "<a href=\"https://colab.research.google.com/github/naomori/codexa_ImageRecognitionForBeginner/blob/master/Chapter3_1.ipynb\" target=\"_parent\"><img src=\"https://colab.research.google.com/assets/colab-badge.svg\" alt=\"Open In Colab\"/></a>"
   ]
  },
  {
   "cell_type": "markdown",
   "metadata": {
    "colab_type": "text",
    "id": "BTyK9da96urH"
   },
   "source": [
    "# Chapter 3.1: OpenCV 概要\n",
    "\n",
    "画像の基本処理にに OpenCV を使い、\n",
    "機械学習のモデリングは scikit-learn と keras を使います。"
   ]
  },
  {
   "cell_type": "code",
   "execution_count": 1,
   "metadata": {
    "colab": {
     "base_uri": "https://localhost:8080/",
     "height": 34
    },
    "colab_type": "code",
    "id": "2UKGzULP7OX1",
    "outputId": "63969926-0bb1-4c41-c6d2-2a8f49f7dcb8"
   },
   "outputs": [
    {
     "name": "stdout",
     "output_type": "stream",
     "text": [
      "3.4.3\n"
     ]
    }
   ],
   "source": [
    "import cv2\n",
    "print(cv2.__version__)"
   ]
  },
  {
   "cell_type": "markdown",
   "metadata": {
    "colab_type": "text",
    "id": "rN7uvsg37Z_G"
   },
   "source": [
    "テキストでは version 3.4.2 のようですが、3.4.3 なら大丈夫そうです。\n",
    "\n",
    "ちなみに、最新版は version 4.X だそうです（2018/11 にアップデート）。  \n",
    "また、コード上は 'cv2' を import していますが、OpenCV 3系の Python Bindnig は\n",
    "'cv2' だそうです。なので、問題ありません。"
   ]
  }
 ],
 "metadata": {
  "colab": {
   "include_colab_link": true,
   "name": "Chapter3-1.ipynb",
   "provenance": [],
   "version": "0.3.2"
  },
  "kernelspec": {
   "display_name": "Python 3",
   "language": "python",
   "name": "python3"
  },
  "language_info": {
   "codemirror_mode": {
    "name": "ipython",
    "version": 3
   },
   "file_extension": ".py",
   "mimetype": "text/x-python",
   "name": "python",
   "nbconvert_exporter": "python",
   "pygments_lexer": "ipython3",
   "version": "3.7.3"
  }
 },
 "nbformat": 4,
 "nbformat_minor": 1
}
