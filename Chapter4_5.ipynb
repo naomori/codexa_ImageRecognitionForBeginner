{
 "cells": [
  {
   "cell_type": "markdown",
   "metadata": {},
   "source": [
    "# CNNで画像認識"
   ]
  },
  {
   "cell_type": "markdown",
   "metadata": {},
   "source": [
    "## ライブラリの読み込み"
   ]
  },
  {
   "cell_type": "code",
   "execution_count": 35,
   "metadata": {},
   "outputs": [],
   "source": [
    "# データ処理のライブラリ\n",
    "import numpy as np \n",
    "import pandas as pd\n",
    "\n",
    "# データ可視化のライブラリ\n",
    "import matplotlib\n",
    "import matplotlib.pyplot as plt\n",
    "%matplotlib inline \n",
    "\n",
    "# 機械学習ライブラリ scikit-learn\n",
    "from sklearn.model_selection import train_test_split\n",
    "from sklearn.model_selection import cross_val_score\n",
    "from sklearn.metrics import confusion_matrix, accuracy_score\n",
    "from sklearn.datasets import fetch_mldata\n",
    "\n",
    "# 機械学習ライブラリ keras\n",
    "import keras as ks\n",
    "from keras.models import Sequential\n",
    "from keras.layers import Dense, Dropout, Flatten, Conv2D, MaxPooling2D\n",
    "from keras.utils import np_utils"
   ]
  },
  {
   "cell_type": "markdown",
   "metadata": {},
   "source": [
    "## データセットの読み込み"
   ]
  },
  {
   "cell_type": "code",
   "execution_count": 36,
   "metadata": {},
   "outputs": [],
   "source": [
    "# MNISTデータセットの読み込み\n",
    "import tensorflow as tf\n",
    "mnist = tf.keras.datasets.mnist\n",
    "(X_train, y_train),(X_test, y_test) = mnist.load_data()\n",
    "\n",
    "# 訓練・テストデータの結合\n",
    "X = np.append(X_train, X_test, axis=0)\n",
    "X = X.reshape(X.shape[0], 784)\n",
    "y = np.append(y_train, y_test, axis=0)\n",
    "\n",
    "# train_test_splitを使い再分割\n",
    "X_train, X_test, y_train, y_test = train_test_split(X,y, test_size=.2, random_state=42) \n",
    "\n",
    "# 訓練データの最初の1万件のみへ縮小\n",
    "X_train = X_train[:10000]\n",
    "y_train = y_train[:10000]\n",
    "\n",
    "# テストデータの最初の1万件のみへ縮小\n",
    "X_test = X_test[:10000]\n",
    "y_test = y_test[:10000]\n",
    "\n",
    "# 正規化\n",
    "X_train = X_train.astype('float32') / 255\n",
    "X_test = X_test.astype('float32') / 255"
   ]
  },
  {
   "cell_type": "markdown",
   "metadata": {},
   "source": [
    "## データの前処理"
   ]
  },
  {
   "cell_type": "code",
   "execution_count": 37,
   "metadata": {},
   "outputs": [
    {
     "name": "stdout",
     "output_type": "stream",
     "text": [
      "(10000, 784)\n",
      "(10000, 784)\n"
     ]
    }
   ],
   "source": [
    "# 特徴量データのサイズ\n",
    "print(X_train.shape)\n",
    "print(X_test.shape)"
   ]
  },
  {
   "cell_type": "code",
   "execution_count": 38,
   "metadata": {},
   "outputs": [
    {
     "name": "stdout",
     "output_type": "stream",
     "text": [
      "(10000, 28, 28, 1)\n",
      "(10000, 28, 28, 1)\n"
     ]
    }
   ],
   "source": [
    "# Keras用にデータを整形\n",
    "X_train = X_train.reshape(X_train.shape[0], 28, 28,1)\n",
    "X_test = X_test.reshape(X_test.shape[0], 28, 28,1)\n",
    "print(X_train.shape)\n",
    "print(X_test.shape)"
   ]
  },
  {
   "cell_type": "code",
   "execution_count": 39,
   "metadata": {},
   "outputs": [
    {
     "name": "stdout",
     "output_type": "stream",
     "text": [
      "[5 4 8 0 2]\n",
      "[8 4 8 7 7]\n"
     ]
    }
   ],
   "source": [
    "# ターゲットデータの確認\n",
    "print(y_train[0:5])\n",
    "print(y_test[0:5])"
   ]
  },
  {
   "cell_type": "code",
   "execution_count": 40,
   "metadata": {},
   "outputs": [
    {
     "name": "stdout",
     "output_type": "stream",
     "text": [
      "[[0. 0. 0. 0. 0. 1. 0. 0. 0. 0.]\n",
      " [0. 0. 0. 0. 1. 0. 0. 0. 0. 0.]\n",
      " [0. 0. 0. 0. 0. 0. 0. 0. 1. 0.]\n",
      " [1. 0. 0. 0. 0. 0. 0. 0. 0. 0.]\n",
      " [0. 0. 1. 0. 0. 0. 0. 0. 0. 0.]]\n",
      "[[0. 0. 0. 0. 0. 0. 0. 0. 1. 0.]\n",
      " [0. 0. 0. 0. 1. 0. 0. 0. 0. 0.]\n",
      " [0. 0. 0. 0. 0. 0. 0. 0. 1. 0.]\n",
      " [0. 0. 0. 0. 0. 0. 0. 1. 0. 0.]\n",
      " [0. 0. 0. 0. 0. 0. 0. 1. 0. 0.]]\n"
     ]
    }
   ],
   "source": [
    "# ターゲットデータをクラスベクトルへ変換\n",
    "y_train = np_utils.to_categorical(y_train, 10)\n",
    "y_test = np_utils.to_categorical(y_test, 10)\n",
    "\n",
    "print(y_train[0:5])\n",
    "print(y_test[0:5])"
   ]
  },
  {
   "cell_type": "markdown",
   "metadata": {},
   "source": [
    "## "
   ]
  },
  {
   "cell_type": "code",
   "execution_count": 41,
   "metadata": {},
   "outputs": [],
   "source": [
    "# Sequentialモデル\n",
    "model = Sequential()"
   ]
  },
  {
   "cell_type": "code",
   "execution_count": 42,
   "metadata": {},
   "outputs": [],
   "source": [
    "# 入力層と畳み込み層\n",
    "model.add(Conv2D(8, kernel_size=(3, 3),\n",
    "                 activation='relu',\n",
    "                 input_shape=(28,28,1)))"
   ]
  },
  {
   "cell_type": "code",
   "execution_count": 43,
   "metadata": {},
   "outputs": [],
   "source": [
    "# プール層\n",
    "model.add(MaxPooling2D(pool_size=(2, 2)))"
   ]
  },
  {
   "cell_type": "markdown",
   "metadata": {},
   "source": [
    "Dropoutは、意図的にニューラルネットワークのユニットをランダムに 0 とする。  \n",
    "Dropoutにより、過学習の防止に役立つ。  \n",
    "\n",
    "Dropoutの引数 0.25 は、ユニット全体の25%をランダムに 0 とすることを意味する。  \n",
    "どのような割合にするのかは、CNNの構造・データの特性により様々。  \n",
    "一般的には、0.25 or 0.5 が使用される。"
   ]
  },
  {
   "cell_type": "code",
   "execution_count": 44,
   "metadata": {},
   "outputs": [],
   "source": [
    "# ドロップアウト\n",
    "model.add(Dropout(0.25))"
   ]
  },
  {
   "cell_type": "code",
   "execution_count": 45,
   "metadata": {},
   "outputs": [],
   "source": [
    "# 全結合層\n",
    "# １つ前の層から出力されたデータを平らなベクトルにする\n",
    "model.add(Flatten())\n",
    "# 隠れ層を追加\n",
    "model.add(Dense(128, activation='relu')) "
   ]
  },
  {
   "cell_type": "code",
   "execution_count": 46,
   "metadata": {},
   "outputs": [],
   "source": [
    "# 出力層\n",
    "model.add(Dense(10, activation='softmax'))"
   ]
  },
  {
   "cell_type": "code",
   "execution_count": 47,
   "metadata": {},
   "outputs": [
    {
     "name": "stdout",
     "output_type": "stream",
     "text": [
      "_________________________________________________________________\n",
      "Layer (type)                 Output Shape              Param #   \n",
      "=================================================================\n",
      "conv2d_3 (Conv2D)            (None, 26, 26, 8)         80        \n",
      "_________________________________________________________________\n",
      "max_pooling2d_3 (MaxPooling2 (None, 13, 13, 8)         0         \n",
      "_________________________________________________________________\n",
      "dropout_3 (Dropout)          (None, 13, 13, 8)         0         \n",
      "_________________________________________________________________\n",
      "flatten_4 (Flatten)          (None, 1352)              0         \n",
      "_________________________________________________________________\n",
      "dense_6 (Dense)              (None, 128)               173184    \n",
      "_________________________________________________________________\n",
      "dense_7 (Dense)              (None, 10)                1290      \n",
      "=================================================================\n",
      "Total params: 174,554\n",
      "Trainable params: 174,554\n",
      "Non-trainable params: 0\n",
      "_________________________________________________________________\n"
     ]
    }
   ],
   "source": [
    "model.summary()"
   ]
  },
  {
   "cell_type": "markdown",
   "metadata": {},
   "source": [
    "## モデルのコンパイル"
   ]
  },
  {
   "cell_type": "code",
   "execution_count": 48,
   "metadata": {},
   "outputs": [],
   "source": [
    "# モデル コンパイル\n",
    "# loss: 損失関数\n",
    "# optimizer: 最適化アルゴリズム\n",
    "# metrics: 評価関数\n",
    "model.compile(loss='categorical_crossentropy',\n",
    "              optimizer='sgd',\n",
    "              metrics=['accuracy'])"
   ]
  },
  {
   "cell_type": "markdown",
   "metadata": {},
   "source": [
    "## モデルの訓練"
   ]
  },
  {
   "cell_type": "code",
   "execution_count": 49,
   "metadata": {},
   "outputs": [
    {
     "name": "stdout",
     "output_type": "stream",
     "text": [
      "WARNING:tensorflow:From C:\\Users\\4009953\\AppData\\Local\\Continuum\\anaconda3\\lib\\site-packages\\tensorflow\\python\\ops\\math_ops.py:3066: to_int32 (from tensorflow.python.ops.math_ops) is deprecated and will be removed in a future version.\n",
      "Instructions for updating:\n",
      "Use tf.cast instead.\n",
      "Epoch 1/50\n",
      "10000/10000 [==============================] - 3s 265us/step - loss: 1.2720 - acc: 0.6289\n",
      "Epoch 2/50\n",
      "10000/10000 [==============================] - 2s 212us/step - loss: 0.5507 - acc: 0.8327\n",
      "Epoch 3/50\n",
      "10000/10000 [==============================] - 2s 213us/step - loss: 0.4532 - acc: 0.8606\n",
      "Epoch 4/50\n",
      "10000/10000 [==============================] - 2s 224us/step - loss: 0.4171 - acc: 0.8717\n",
      "Epoch 5/50\n",
      "10000/10000 [==============================] - 2s 234us/step - loss: 0.3808 - acc: 0.8801\n",
      "Epoch 6/50\n",
      "10000/10000 [==============================] - 2s 216us/step - loss: 0.3547 - acc: 0.8901\n",
      "Epoch 7/50\n",
      "10000/10000 [==============================] - 2s 239us/step - loss: 0.3352 - acc: 0.8976\n",
      "Epoch 8/50\n",
      "10000/10000 [==============================] - 3s 251us/step - loss: 0.3070 - acc: 0.9068\n",
      "Epoch 9/50\n",
      "10000/10000 [==============================] - 2s 229us/step - loss: 0.2920 - acc: 0.9111\n",
      "Epoch 10/50\n",
      "10000/10000 [==============================] - 2s 223us/step - loss: 0.2701 - acc: 0.9164\n",
      "Epoch 11/50\n",
      "10000/10000 [==============================] - 2s 226us/step - loss: 0.2651 - acc: 0.9181\n",
      "Epoch 12/50\n",
      "10000/10000 [==============================] - 2s 217us/step - loss: 0.2454 - acc: 0.9256\n",
      "Epoch 13/50\n",
      "10000/10000 [==============================] - 2s 222us/step - loss: 0.2373 - acc: 0.9279\n",
      "Epoch 14/50\n",
      "10000/10000 [==============================] - 2s 221us/step - loss: 0.2317 - acc: 0.9265\n",
      "Epoch 15/50\n",
      "10000/10000 [==============================] - 2s 215us/step - loss: 0.2194 - acc: 0.9310\n",
      "Epoch 16/50\n",
      "10000/10000 [==============================] - 2s 215us/step - loss: 0.2035 - acc: 0.9356\n",
      "Epoch 17/50\n",
      "10000/10000 [==============================] - 2s 218us/step - loss: 0.2022 - acc: 0.9373\n",
      "Epoch 18/50\n",
      "10000/10000 [==============================] - 2s 217us/step - loss: 0.1890 - acc: 0.9398\n",
      "Epoch 19/50\n",
      "10000/10000 [==============================] - 2s 219us/step - loss: 0.1873 - acc: 0.9415\n",
      "Epoch 20/50\n",
      "10000/10000 [==============================] - 2s 217us/step - loss: 0.1750 - acc: 0.9488\n",
      "Epoch 21/50\n",
      "10000/10000 [==============================] - 2s 227us/step - loss: 0.1750 - acc: 0.9457\n",
      "Epoch 22/50\n",
      "10000/10000 [==============================] - 2s 244us/step - loss: 0.1618 - acc: 0.9490\n",
      "Epoch 23/50\n",
      "10000/10000 [==============================] - 3s 251us/step - loss: 0.1677 - acc: 0.9488\n",
      "Epoch 24/50\n",
      "10000/10000 [==============================] - 3s 258us/step - loss: 0.1497 - acc: 0.9514\n",
      "Epoch 25/50\n",
      "10000/10000 [==============================] - 2s 236us/step - loss: 0.1515 - acc: 0.9536\n",
      "Epoch 26/50\n",
      "10000/10000 [==============================] - 2s 238us/step - loss: 0.1440 - acc: 0.9555\n",
      "Epoch 27/50\n",
      "10000/10000 [==============================] - 2s 226us/step - loss: 0.1403 - acc: 0.9551\n",
      "Epoch 28/50\n",
      "10000/10000 [==============================] - 2s 229us/step - loss: 0.1384 - acc: 0.9582\n",
      "Epoch 29/50\n",
      "10000/10000 [==============================] - 2s 238us/step - loss: 0.1353 - acc: 0.9586\n",
      "Epoch 30/50\n",
      "10000/10000 [==============================] - 2s 229us/step - loss: 0.1242 - acc: 0.9591\n",
      "Epoch 31/50\n",
      "10000/10000 [==============================] - 2s 241us/step - loss: 0.1246 - acc: 0.9592\n",
      "Epoch 32/50\n",
      "10000/10000 [==============================] - 2s 245us/step - loss: 0.1226 - acc: 0.9625\n",
      "Epoch 33/50\n",
      "10000/10000 [==============================] - 3s 253us/step - loss: 0.1165 - acc: 0.9620\n",
      "Epoch 34/50\n",
      "10000/10000 [==============================] - 2s 230us/step - loss: 0.1179 - acc: 0.9624\n",
      "Epoch 35/50\n",
      "10000/10000 [==============================] - 2s 231us/step - loss: 0.1104 - acc: 0.9664\n",
      "Epoch 36/50\n",
      "10000/10000 [==============================] - 2s 230us/step - loss: 0.1053 - acc: 0.9676\n",
      "Epoch 37/50\n",
      "10000/10000 [==============================] - 2s 238us/step - loss: 0.1053 - acc: 0.9667\n",
      "Epoch 38/50\n",
      "10000/10000 [==============================] - 2s 234us/step - loss: 0.1032 - acc: 0.9683\n",
      "Epoch 39/50\n",
      "10000/10000 [==============================] - 2s 244us/step - loss: 0.1003 - acc: 0.9662\n",
      "Epoch 40/50\n",
      "10000/10000 [==============================] - 2s 236us/step - loss: 0.0916 - acc: 0.9704\n",
      "Epoch 41/50\n",
      "10000/10000 [==============================] - 2s 231us/step - loss: 0.0964 - acc: 0.9687\n",
      "Epoch 42/50\n",
      "10000/10000 [==============================] - 2s 229us/step - loss: 0.0938 - acc: 0.9690\n",
      "Epoch 43/50\n",
      "10000/10000 [==============================] - 2s 227us/step - loss: 0.0954 - acc: 0.9697\n",
      "Epoch 44/50\n",
      "10000/10000 [==============================] - 2s 230us/step - loss: 0.0856 - acc: 0.9724\n",
      "Epoch 45/50\n",
      "10000/10000 [==============================] - 2s 230us/step - loss: 0.0839 - acc: 0.9734\n",
      "Epoch 46/50\n",
      "10000/10000 [==============================] - 2s 229us/step - loss: 0.0832 - acc: 0.9732\n",
      "Epoch 47/50\n",
      "10000/10000 [==============================] - 2s 229us/step - loss: 0.0839 - acc: 0.9725\n",
      "Epoch 48/50\n",
      "10000/10000 [==============================] - 3s 259us/step - loss: 0.0782 - acc: 0.9748\n",
      "Epoch 49/50\n",
      "10000/10000 [==============================] - 3s 256us/step - loss: 0.0805 - acc: 0.9740\n",
      "Epoch 50/50\n",
      "10000/10000 [==============================] - 2s 236us/step - loss: 0.0758 - acc: 0.9760\n"
     ]
    },
    {
     "data": {
      "text/plain": [
       "<keras.callbacks.History at 0x23b977259e8>"
      ]
     },
     "execution_count": 49,
     "metadata": {},
     "output_type": "execute_result"
    }
   ],
   "source": [
    "# モデル訓練\n",
    "model.fit(X_train, y_train, epochs=50)"
   ]
  },
  {
   "cell_type": "markdown",
   "metadata": {},
   "source": [
    "## 分類"
   ]
  },
  {
   "cell_type": "code",
   "execution_count": 50,
   "metadata": {},
   "outputs": [],
   "source": [
    "# テストデータで推測結果を出力\n",
    "cnn_pred = model.predict(X_test)"
   ]
  },
  {
   "cell_type": "code",
   "execution_count": 51,
   "metadata": {},
   "outputs": [
    {
     "name": "stdout",
     "output_type": "stream",
     "text": [
      "[1.3158771e-08 8.4456736e-10 1.9096547e-05 2.2043609e-04 8.4381586e-09\n",
      " 6.0182145e-07 3.6360989e-10 4.5563708e-09 9.9975973e-01 1.1844171e-07]\n"
     ]
    }
   ],
   "source": [
    "print(cnn_pred[0])"
   ]
  },
  {
   "cell_type": "code",
   "execution_count": 52,
   "metadata": {},
   "outputs": [],
   "source": [
    "# 推測結果をクラスラベルへ変換\n",
    "y_pred_CNN = np.argmax(cnn_pred, axis=1)\n",
    "y_test_CNN = np.argmax(y_test, axis=1)"
   ]
  },
  {
   "cell_type": "code",
   "execution_count": 53,
   "metadata": {},
   "outputs": [
    {
     "name": "stdout",
     "output_type": "stream",
     "text": [
      "[[ 969    0    4    0    0    0    5    1    2    2]\n",
      " [   0 1132   11    0    1    0    1    2    4    1]\n",
      " [   3    7  940    0    2    0    1    3   10    1]\n",
      " [   2    3   18  980    2    4    1    4   10   10]\n",
      " [   2    0    3    0  864    0    9    2    1   25]\n",
      " [   4    1    1   18    1  896    7    0    6    3]\n",
      " [   4    2    0    0    1    3  949    0    2    0]\n",
      " [   2    3   13    1    6    1    0 1011    1   17]\n",
      " [   5    5   11    9    4    0    4    4  920    7]\n",
      " [   5    5    1    9    5    0    0    5    4 1002]]\n"
     ]
    }
   ],
   "source": [
    "print(confusion_matrix(y_test_CNN,y_pred_CNN))"
   ]
  },
  {
   "cell_type": "code",
   "execution_count": 54,
   "metadata": {},
   "outputs": [
    {
     "name": "stdout",
     "output_type": "stream",
     "text": [
      "0.9663\n"
     ]
    }
   ],
   "source": [
    "print(accuracy_score(y_test_CNN,y_pred_CNN))"
   ]
  },
  {
   "cell_type": "code",
   "execution_count": null,
   "metadata": {},
   "outputs": [],
   "source": []
  }
 ],
 "metadata": {
  "kernelspec": {
   "display_name": "Python 3",
   "language": "python",
   "name": "python3"
  },
  "language_info": {
   "codemirror_mode": {
    "name": "ipython",
    "version": 3
   },
   "file_extension": ".py",
   "mimetype": "text/x-python",
   "name": "python",
   "nbconvert_exporter": "python",
   "pygments_lexer": "ipython3",
   "version": "3.7.3"
  }
 },
 "nbformat": 4,
 "nbformat_minor": 2
}
