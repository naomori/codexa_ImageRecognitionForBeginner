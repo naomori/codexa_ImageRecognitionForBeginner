{
  "nbformat": 4,
  "nbformat_minor": 0,
  "metadata": {
    "kernelspec": {
      "name": "python3",
      "display_name": "Python 3"
    },
    "language_info": {
      "codemirror_mode": {
        "name": "ipython",
        "version": 3
      },
      "file_extension": ".py",
      "mimetype": "text/x-python",
      "name": "python",
      "nbconvert_exporter": "python",
      "pygments_lexer": "ipython3",
      "version": "3.7.3"
    },
    "colab": {
      "name": "Chapter4_5.ipynb",
      "version": "0.3.2",
      "provenance": []
    },
    "accelerator": "GPU"
  },
  "cells": [
    {
      "cell_type": "markdown",
      "metadata": {
        "id": "-nTOuap4mvL6",
        "colab_type": "text"
      },
      "source": [
        "# CNNで画像認識"
      ]
    },
    {
      "cell_type": "markdown",
      "metadata": {
        "id": "QhvzjkmVmvL7",
        "colab_type": "text"
      },
      "source": [
        "## ライブラリの読み込み"
      ]
    },
    {
      "cell_type": "code",
      "metadata": {
        "id": "hv8Zd5kKmvL8",
        "colab_type": "code",
        "colab": {
          "base_uri": "https://localhost:8080/",
          "height": 34
        },
        "outputId": "bb0c7c3f-bb00-443c-b061-e6addd7b2133"
      },
      "source": [
        "# データ処理のライブラリ\n",
        "import numpy as np \n",
        "import pandas as pd\n",
        "\n",
        "# データ可視化のライブラリ\n",
        "import matplotlib\n",
        "import matplotlib.pyplot as plt\n",
        "%matplotlib inline \n",
        "\n",
        "# 機械学習ライブラリ scikit-learn\n",
        "from sklearn.model_selection import train_test_split\n",
        "from sklearn.model_selection import cross_val_score\n",
        "from sklearn.metrics import confusion_matrix, accuracy_score\n",
        "from sklearn.datasets import fetch_mldata\n",
        "\n",
        "# 機械学習ライブラリ keras\n",
        "import keras as ks\n",
        "from keras.models import Sequential\n",
        "from keras.layers import Dense, Dropout, Flatten, Conv2D, MaxPooling2D\n",
        "from keras.utils import np_utils"
      ],
      "execution_count": 1,
      "outputs": [
        {
          "output_type": "stream",
          "text": [
            "Using TensorFlow backend.\n"
          ],
          "name": "stderr"
        }
      ]
    },
    {
      "cell_type": "markdown",
      "metadata": {
        "id": "jDei9o-7mvL-",
        "colab_type": "text"
      },
      "source": [
        "## データセットの読み込み"
      ]
    },
    {
      "cell_type": "code",
      "metadata": {
        "id": "Uu9EcLwYmvL_",
        "colab_type": "code",
        "colab": {
          "base_uri": "https://localhost:8080/",
          "height": 50
        },
        "outputId": "942486fe-8429-4f41-87a1-3fe1b20e458a"
      },
      "source": [
        "# MNISTデータセットの読み込み\n",
        "import tensorflow as tf\n",
        "mnist = tf.keras.datasets.mnist\n",
        "(X_train, y_train),(X_test, y_test) = mnist.load_data()\n",
        "\n",
        "# 訓練・テストデータの結合\n",
        "X = np.append(X_train, X_test, axis=0)\n",
        "X = X.reshape(X.shape[0], 784)\n",
        "y = np.append(y_train, y_test, axis=0)\n",
        "\n",
        "# train_test_splitを使い再分割\n",
        "X_train, X_test, y_train, y_test = train_test_split(X,y, test_size=.2, random_state=42) \n",
        "\n",
        "# 訓練データの最初の1万件のみへ縮小\n",
        "X_train = X_train[:10000]\n",
        "y_train = y_train[:10000]\n",
        "\n",
        "# テストデータの最初の1万件のみへ縮小\n",
        "X_test = X_test[:10000]\n",
        "y_test = y_test[:10000]\n",
        "\n",
        "# 正規化\n",
        "X_train = X_train.astype('float32') / 255\n",
        "X_test = X_test.astype('float32') / 255"
      ],
      "execution_count": 2,
      "outputs": [
        {
          "output_type": "stream",
          "text": [
            "Downloading data from https://storage.googleapis.com/tensorflow/tf-keras-datasets/mnist.npz\n",
            "11493376/11490434 [==============================] - 0s 0us/step\n"
          ],
          "name": "stdout"
        }
      ]
    },
    {
      "cell_type": "markdown",
      "metadata": {
        "id": "34xjyebkmvMB",
        "colab_type": "text"
      },
      "source": [
        "## データの前処理"
      ]
    },
    {
      "cell_type": "code",
      "metadata": {
        "id": "IIvD1I9WmvMB",
        "colab_type": "code",
        "colab": {
          "base_uri": "https://localhost:8080/",
          "height": 50
        },
        "outputId": "78353579-916b-445c-c425-f841d37f1303"
      },
      "source": [
        "# 特徴量データのサイズ\n",
        "print(X_train.shape)\n",
        "print(X_test.shape)"
      ],
      "execution_count": 3,
      "outputs": [
        {
          "output_type": "stream",
          "text": [
            "(10000, 784)\n",
            "(10000, 784)\n"
          ],
          "name": "stdout"
        }
      ]
    },
    {
      "cell_type": "code",
      "metadata": {
        "id": "hMgx_9bumvMG",
        "colab_type": "code",
        "colab": {
          "base_uri": "https://localhost:8080/",
          "height": 50
        },
        "outputId": "6b20f6c1-870e-44ec-9616-b69c54a9b88d"
      },
      "source": [
        "# Keras用にデータを整形\n",
        "X_train = X_train.reshape(X_train.shape[0], 28, 28,1)\n",
        "X_test = X_test.reshape(X_test.shape[0], 28, 28,1)\n",
        "print(X_train.shape)\n",
        "print(X_test.shape)"
      ],
      "execution_count": 4,
      "outputs": [
        {
          "output_type": "stream",
          "text": [
            "(10000, 28, 28, 1)\n",
            "(10000, 28, 28, 1)\n"
          ],
          "name": "stdout"
        }
      ]
    },
    {
      "cell_type": "code",
      "metadata": {
        "id": "Y05HvdjvmvMI",
        "colab_type": "code",
        "colab": {
          "base_uri": "https://localhost:8080/",
          "height": 50
        },
        "outputId": "f33dfea7-566a-4d6b-c0c1-b4bdf79a6497"
      },
      "source": [
        "# ターゲットデータの確認\n",
        "print(y_train[0:5])\n",
        "print(y_test[0:5])"
      ],
      "execution_count": 5,
      "outputs": [
        {
          "output_type": "stream",
          "text": [
            "[5 4 8 0 2]\n",
            "[8 4 8 7 7]\n"
          ],
          "name": "stdout"
        }
      ]
    },
    {
      "cell_type": "code",
      "metadata": {
        "id": "56JZ-jXNmvMK",
        "colab_type": "code",
        "colab": {
          "base_uri": "https://localhost:8080/",
          "height": 185
        },
        "outputId": "7c679e9b-5e41-4eea-8a92-3ab7bf8dd9ec"
      },
      "source": [
        "# ターゲットデータをクラスベクトルへ変換\n",
        "y_train = np_utils.to_categorical(y_train, 10)\n",
        "y_test = np_utils.to_categorical(y_test, 10)\n",
        "\n",
        "print(y_train[0:5])\n",
        "print(y_test[0:5])"
      ],
      "execution_count": 6,
      "outputs": [
        {
          "output_type": "stream",
          "text": [
            "[[0. 0. 0. 0. 0. 1. 0. 0. 0. 0.]\n",
            " [0. 0. 0. 0. 1. 0. 0. 0. 0. 0.]\n",
            " [0. 0. 0. 0. 0. 0. 0. 0. 1. 0.]\n",
            " [1. 0. 0. 0. 0. 0. 0. 0. 0. 0.]\n",
            " [0. 0. 1. 0. 0. 0. 0. 0. 0. 0.]]\n",
            "[[0. 0. 0. 0. 0. 0. 0. 0. 1. 0.]\n",
            " [0. 0. 0. 0. 1. 0. 0. 0. 0. 0.]\n",
            " [0. 0. 0. 0. 0. 0. 0. 0. 1. 0.]\n",
            " [0. 0. 0. 0. 0. 0. 0. 1. 0. 0.]\n",
            " [0. 0. 0. 0. 0. 0. 0. 1. 0. 0.]]\n"
          ],
          "name": "stdout"
        }
      ]
    },
    {
      "cell_type": "markdown",
      "metadata": {
        "id": "DkEq2cItmvMM",
        "colab_type": "text"
      },
      "source": [
        "## モデルの構築"
      ]
    },
    {
      "cell_type": "code",
      "metadata": {
        "id": "x_yh-rZPmvMM",
        "colab_type": "code",
        "colab": {
          "base_uri": "https://localhost:8080/",
          "height": 87
        },
        "outputId": "382f7d83-d51a-4174-e603-2376bb812a7a"
      },
      "source": [
        "# Sequentialモデル\n",
        "model = Sequential()"
      ],
      "execution_count": 7,
      "outputs": [
        {
          "output_type": "stream",
          "text": [
            "WARNING: Logging before flag parsing goes to stderr.\n",
            "W0811 07:39:15.412032 139809815730048 deprecation_wrapper.py:119] From /usr/local/lib/python3.6/dist-packages/keras/backend/tensorflow_backend.py:74: The name tf.get_default_graph is deprecated. Please use tf.compat.v1.get_default_graph instead.\n",
            "\n"
          ],
          "name": "stderr"
        }
      ]
    },
    {
      "cell_type": "code",
      "metadata": {
        "id": "b3fMjisgmvMQ",
        "colab_type": "code",
        "colab": {
          "base_uri": "https://localhost:8080/",
          "height": 104
        },
        "outputId": "d917bb0d-34c1-417b-cfef-8d2ac225ec9a"
      },
      "source": [
        "# 入力層と畳み込み層\n",
        "model.add(Conv2D(8, kernel_size=(3, 3),\n",
        "                 activation='relu',\n",
        "                 input_shape=(28,28,1)))"
      ],
      "execution_count": 8,
      "outputs": [
        {
          "output_type": "stream",
          "text": [
            "W0811 07:39:17.378441 139809815730048 deprecation_wrapper.py:119] From /usr/local/lib/python3.6/dist-packages/keras/backend/tensorflow_backend.py:517: The name tf.placeholder is deprecated. Please use tf.compat.v1.placeholder instead.\n",
            "\n",
            "W0811 07:39:17.396696 139809815730048 deprecation_wrapper.py:119] From /usr/local/lib/python3.6/dist-packages/keras/backend/tensorflow_backend.py:4138: The name tf.random_uniform is deprecated. Please use tf.random.uniform instead.\n",
            "\n"
          ],
          "name": "stderr"
        }
      ]
    },
    {
      "cell_type": "code",
      "metadata": {
        "id": "8DfJekXgmvMS",
        "colab_type": "code",
        "colab": {
          "base_uri": "https://localhost:8080/",
          "height": 70
        },
        "outputId": "9d2365d1-dd75-4cf1-ca9f-4beeab4e69ed"
      },
      "source": [
        "# プール層\n",
        "model.add(MaxPooling2D(pool_size=(2, 2)))"
      ],
      "execution_count": 9,
      "outputs": [
        {
          "output_type": "stream",
          "text": [
            "W0811 07:39:18.361875 139809815730048 deprecation_wrapper.py:119] From /usr/local/lib/python3.6/dist-packages/keras/backend/tensorflow_backend.py:3976: The name tf.nn.max_pool is deprecated. Please use tf.nn.max_pool2d instead.\n",
            "\n"
          ],
          "name": "stderr"
        }
      ]
    },
    {
      "cell_type": "markdown",
      "metadata": {
        "id": "aqQkRY1xmvMV",
        "colab_type": "text"
      },
      "source": [
        "Dropoutは、意図的にニューラルネットワークのユニットをランダムに 0 とする。  \n",
        "Dropoutにより、過学習の防止に役立つ。  \n",
        "\n",
        "Dropoutの引数 0.25 は、ユニット全体の25%をランダムに 0 とすることを意味する。  \n",
        "どのような割合にするのかは、CNNの構造・データの特性により様々。  \n",
        "一般的には、0.25 or 0.5 が使用される。"
      ]
    },
    {
      "cell_type": "code",
      "metadata": {
        "id": "KQ8dif6fmvMW",
        "colab_type": "code",
        "colab": {
          "base_uri": "https://localhost:8080/",
          "height": 121
        },
        "outputId": "ea6b01ba-23f6-4b8f-8f82-0730fcffa4b6"
      },
      "source": [
        "# ドロップアウト\n",
        "model.add(Dropout(0.25))"
      ],
      "execution_count": 10,
      "outputs": [
        {
          "output_type": "stream",
          "text": [
            "W0811 07:39:19.656718 139809815730048 deprecation_wrapper.py:119] From /usr/local/lib/python3.6/dist-packages/keras/backend/tensorflow_backend.py:133: The name tf.placeholder_with_default is deprecated. Please use tf.compat.v1.placeholder_with_default instead.\n",
            "\n",
            "W0811 07:39:19.675464 139809815730048 deprecation.py:506] From /usr/local/lib/python3.6/dist-packages/keras/backend/tensorflow_backend.py:3445: calling dropout (from tensorflow.python.ops.nn_ops) with keep_prob is deprecated and will be removed in a future version.\n",
            "Instructions for updating:\n",
            "Please use `rate` instead of `keep_prob`. Rate should be set to `rate = 1 - keep_prob`.\n"
          ],
          "name": "stderr"
        }
      ]
    },
    {
      "cell_type": "code",
      "metadata": {
        "id": "kDCSwXFgmvMZ",
        "colab_type": "code",
        "colab": {}
      },
      "source": [
        "# 全結合層\n",
        "# １つ前の層から出力されたデータを平らなベクトルにする\n",
        "model.add(Flatten())\n",
        "# 隠れ層を追加\n",
        "model.add(Dense(128, activation='relu')) "
      ],
      "execution_count": 0,
      "outputs": []
    },
    {
      "cell_type": "code",
      "metadata": {
        "id": "8nYe2gdMmvMa",
        "colab_type": "code",
        "colab": {}
      },
      "source": [
        "# 出力層\n",
        "model.add(Dense(10, activation='softmax'))"
      ],
      "execution_count": 0,
      "outputs": []
    },
    {
      "cell_type": "code",
      "metadata": {
        "id": "oDFXsQ7zmvMc",
        "colab_type": "code",
        "colab": {
          "base_uri": "https://localhost:8080/",
          "height": 336
        },
        "outputId": "c330d4ae-1c1b-4377-8880-846de9fa822c"
      },
      "source": [
        "model.summary()"
      ],
      "execution_count": 13,
      "outputs": [
        {
          "output_type": "stream",
          "text": [
            "_________________________________________________________________\n",
            "Layer (type)                 Output Shape              Param #   \n",
            "=================================================================\n",
            "conv2d_1 (Conv2D)            (None, 26, 26, 8)         80        \n",
            "_________________________________________________________________\n",
            "max_pooling2d_1 (MaxPooling2 (None, 13, 13, 8)         0         \n",
            "_________________________________________________________________\n",
            "dropout_1 (Dropout)          (None, 13, 13, 8)         0         \n",
            "_________________________________________________________________\n",
            "flatten_1 (Flatten)          (None, 1352)              0         \n",
            "_________________________________________________________________\n",
            "dense_1 (Dense)              (None, 128)               173184    \n",
            "_________________________________________________________________\n",
            "dense_2 (Dense)              (None, 10)                1290      \n",
            "=================================================================\n",
            "Total params: 174,554\n",
            "Trainable params: 174,554\n",
            "Non-trainable params: 0\n",
            "_________________________________________________________________\n"
          ],
          "name": "stdout"
        }
      ]
    },
    {
      "cell_type": "markdown",
      "metadata": {
        "id": "SMrZWC_WmvMe",
        "colab_type": "text"
      },
      "source": [
        "## モデルのコンパイル"
      ]
    },
    {
      "cell_type": "code",
      "metadata": {
        "id": "2RkxE3QtmvMe",
        "colab_type": "code",
        "colab": {
          "base_uri": "https://localhost:8080/",
          "height": 104
        },
        "outputId": "3451c116-4a9d-423f-fb96-868e8e2efdc5"
      },
      "source": [
        "# モデル コンパイル\n",
        "# loss: 損失関数\n",
        "# optimizer: 最適化アルゴリズム\n",
        "# metrics: 評価関数\n",
        "model.compile(loss='categorical_crossentropy',\n",
        "              optimizer='sgd',\n",
        "              metrics=['accuracy'])"
      ],
      "execution_count": 14,
      "outputs": [
        {
          "output_type": "stream",
          "text": [
            "W0811 07:39:27.090183 139809815730048 deprecation_wrapper.py:119] From /usr/local/lib/python3.6/dist-packages/keras/optimizers.py:790: The name tf.train.Optimizer is deprecated. Please use tf.compat.v1.train.Optimizer instead.\n",
            "\n",
            "W0811 07:39:27.115196 139809815730048 deprecation_wrapper.py:119] From /usr/local/lib/python3.6/dist-packages/keras/backend/tensorflow_backend.py:3295: The name tf.log is deprecated. Please use tf.math.log instead.\n",
            "\n"
          ],
          "name": "stderr"
        }
      ]
    },
    {
      "cell_type": "markdown",
      "metadata": {
        "id": "QbamfCVpmvMg",
        "colab_type": "text"
      },
      "source": [
        "## モデルの訓練"
      ]
    },
    {
      "cell_type": "code",
      "metadata": {
        "id": "czh2Fo6QmvMg",
        "colab_type": "code",
        "colab": {
          "base_uri": "https://localhost:8080/",
          "height": 1000
        },
        "outputId": "f423b35c-c928-4fd1-dd05-2cc4c0983d46"
      },
      "source": [
        "# モデル訓練\n",
        "model.fit(X_train, y_train, epochs=50)"
      ],
      "execution_count": 15,
      "outputs": [
        {
          "output_type": "stream",
          "text": [
            "W0811 07:39:29.238267 139809815730048 deprecation.py:323] From /usr/local/lib/python3.6/dist-packages/tensorflow/python/ops/math_grad.py:1250: add_dispatch_support.<locals>.wrapper (from tensorflow.python.ops.array_ops) is deprecated and will be removed in a future version.\n",
            "Instructions for updating:\n",
            "Use tf.where in 2.0, which has the same broadcast rule as np.where\n"
          ],
          "name": "stderr"
        },
        {
          "output_type": "stream",
          "text": [
            "Epoch 1/50\n",
            "10000/10000 [==============================] - 8s 759us/step - loss: 1.8750 - acc: 0.4570\n",
            "Epoch 2/50\n",
            "10000/10000 [==============================] - 1s 111us/step - loss: 0.6416 - acc: 0.8132\n",
            "Epoch 3/50\n",
            "10000/10000 [==============================] - 1s 109us/step - loss: 0.4793 - acc: 0.8596\n",
            "Epoch 4/50\n",
            "10000/10000 [==============================] - 1s 108us/step - loss: 0.4222 - acc: 0.8699\n",
            "Epoch 5/50\n",
            "10000/10000 [==============================] - 1s 108us/step - loss: 0.3784 - acc: 0.8852\n",
            "Epoch 6/50\n",
            "10000/10000 [==============================] - 1s 108us/step - loss: 0.3466 - acc: 0.8940\n",
            "Epoch 7/50\n",
            "10000/10000 [==============================] - 1s 108us/step - loss: 0.3245 - acc: 0.9009\n",
            "Epoch 8/50\n",
            "10000/10000 [==============================] - 1s 109us/step - loss: 0.2972 - acc: 0.9103\n",
            "Epoch 9/50\n",
            "10000/10000 [==============================] - 1s 108us/step - loss: 0.2751 - acc: 0.9157\n",
            "Epoch 10/50\n",
            "10000/10000 [==============================] - 1s 128us/step - loss: 0.2655 - acc: 0.9197\n",
            "Epoch 11/50\n",
            "10000/10000 [==============================] - 1s 110us/step - loss: 0.2458 - acc: 0.9247\n",
            "Epoch 12/50\n",
            "10000/10000 [==============================] - 1s 107us/step - loss: 0.2262 - acc: 0.9304\n",
            "Epoch 13/50\n",
            "10000/10000 [==============================] - 1s 107us/step - loss: 0.2138 - acc: 0.9373\n",
            "Epoch 14/50\n",
            "10000/10000 [==============================] - 1s 108us/step - loss: 0.2059 - acc: 0.9373\n",
            "Epoch 15/50\n",
            "10000/10000 [==============================] - 1s 108us/step - loss: 0.1919 - acc: 0.9422\n",
            "Epoch 16/50\n",
            "10000/10000 [==============================] - 1s 108us/step - loss: 0.1823 - acc: 0.9451\n",
            "Epoch 17/50\n",
            "10000/10000 [==============================] - 1s 109us/step - loss: 0.1738 - acc: 0.9461\n",
            "Epoch 18/50\n",
            "10000/10000 [==============================] - 1s 107us/step - loss: 0.1640 - acc: 0.9478\n",
            "Epoch 19/50\n",
            "10000/10000 [==============================] - 1s 111us/step - loss: 0.1597 - acc: 0.9517\n",
            "Epoch 20/50\n",
            "10000/10000 [==============================] - 1s 108us/step - loss: 0.1479 - acc: 0.9551\n",
            "Epoch 21/50\n",
            "10000/10000 [==============================] - 1s 108us/step - loss: 0.1420 - acc: 0.9569\n",
            "Epoch 22/50\n",
            "10000/10000 [==============================] - 1s 108us/step - loss: 0.1423 - acc: 0.9551\n",
            "Epoch 23/50\n",
            "10000/10000 [==============================] - 1s 110us/step - loss: 0.1315 - acc: 0.9604\n",
            "Epoch 24/50\n",
            "10000/10000 [==============================] - 1s 109us/step - loss: 0.1263 - acc: 0.9605\n",
            "Epoch 25/50\n",
            "10000/10000 [==============================] - 1s 108us/step - loss: 0.1229 - acc: 0.9611\n",
            "Epoch 26/50\n",
            "10000/10000 [==============================] - 1s 108us/step - loss: 0.1208 - acc: 0.9613\n",
            "Epoch 27/50\n",
            "10000/10000 [==============================] - 1s 110us/step - loss: 0.1132 - acc: 0.9651\n",
            "Epoch 28/50\n",
            "10000/10000 [==============================] - 1s 111us/step - loss: 0.1097 - acc: 0.9654\n",
            "Epoch 29/50\n",
            "10000/10000 [==============================] - 1s 110us/step - loss: 0.1073 - acc: 0.9673\n",
            "Epoch 30/50\n",
            "10000/10000 [==============================] - 1s 106us/step - loss: 0.1007 - acc: 0.9680\n",
            "Epoch 31/50\n",
            "10000/10000 [==============================] - 1s 107us/step - loss: 0.0946 - acc: 0.9693\n",
            "Epoch 32/50\n",
            "10000/10000 [==============================] - 1s 109us/step - loss: 0.0983 - acc: 0.9679\n",
            "Epoch 33/50\n",
            "10000/10000 [==============================] - 1s 108us/step - loss: 0.0942 - acc: 0.9720\n",
            "Epoch 34/50\n",
            "10000/10000 [==============================] - 1s 107us/step - loss: 0.0917 - acc: 0.9715\n",
            "Epoch 35/50\n",
            "10000/10000 [==============================] - 1s 107us/step - loss: 0.0840 - acc: 0.9746\n",
            "Epoch 36/50\n",
            "10000/10000 [==============================] - 1s 107us/step - loss: 0.0877 - acc: 0.9728\n",
            "Epoch 37/50\n",
            "10000/10000 [==============================] - 1s 108us/step - loss: 0.0844 - acc: 0.9733\n",
            "Epoch 38/50\n",
            "10000/10000 [==============================] - 1s 109us/step - loss: 0.0849 - acc: 0.9726\n",
            "Epoch 39/50\n",
            "10000/10000 [==============================] - 1s 108us/step - loss: 0.0779 - acc: 0.9766\n",
            "Epoch 40/50\n",
            "10000/10000 [==============================] - 1s 109us/step - loss: 0.0753 - acc: 0.9763\n",
            "Epoch 41/50\n",
            "10000/10000 [==============================] - 1s 108us/step - loss: 0.0754 - acc: 0.9773\n",
            "Epoch 42/50\n",
            "10000/10000 [==============================] - 1s 110us/step - loss: 0.0709 - acc: 0.9767\n",
            "Epoch 43/50\n",
            "10000/10000 [==============================] - 1s 108us/step - loss: 0.0730 - acc: 0.9763\n",
            "Epoch 44/50\n",
            "10000/10000 [==============================] - 1s 108us/step - loss: 0.0692 - acc: 0.9766\n",
            "Epoch 45/50\n",
            "10000/10000 [==============================] - 1s 108us/step - loss: 0.0657 - acc: 0.9797\n",
            "Epoch 46/50\n",
            "10000/10000 [==============================] - 1s 108us/step - loss: 0.0682 - acc: 0.9782\n",
            "Epoch 47/50\n",
            "10000/10000 [==============================] - 1s 109us/step - loss: 0.0666 - acc: 0.9789\n",
            "Epoch 48/50\n",
            "10000/10000 [==============================] - 1s 110us/step - loss: 0.0623 - acc: 0.9804\n",
            "Epoch 49/50\n",
            "10000/10000 [==============================] - 1s 108us/step - loss: 0.0614 - acc: 0.9803\n",
            "Epoch 50/50\n",
            "10000/10000 [==============================] - 1s 108us/step - loss: 0.0627 - acc: 0.9802\n"
          ],
          "name": "stdout"
        },
        {
          "output_type": "execute_result",
          "data": {
            "text/plain": [
              "<keras.callbacks.History at 0x7f27af24cf60>"
            ]
          },
          "metadata": {
            "tags": []
          },
          "execution_count": 15
        }
      ]
    },
    {
      "cell_type": "markdown",
      "metadata": {
        "id": "iBlIjuOMmvMi",
        "colab_type": "text"
      },
      "source": [
        "## 分類"
      ]
    },
    {
      "cell_type": "code",
      "metadata": {
        "id": "gISRRzt2mvMj",
        "colab_type": "code",
        "colab": {}
      },
      "source": [
        "# テストデータで推測結果を出力\n",
        "cnn_pred = model.predict(X_test)"
      ],
      "execution_count": 0,
      "outputs": []
    },
    {
      "cell_type": "code",
      "metadata": {
        "id": "YC1CKB86mvMl",
        "colab_type": "code",
        "colab": {
          "base_uri": "https://localhost:8080/",
          "height": 50
        },
        "outputId": "20545acd-6136-4e82-b475-dc5583cd260c"
      },
      "source": [
        "print(cnn_pred[0])"
      ],
      "execution_count": 17,
      "outputs": [
        {
          "output_type": "stream",
          "text": [
            "[1.1773145e-08 6.0070960e-08 4.6360379e-05 1.1352274e-03 7.8738260e-09\n",
            " 4.2698835e-07 1.6903282e-08 6.3102257e-09 9.9881774e-01 1.1111147e-07]\n"
          ],
          "name": "stdout"
        }
      ]
    },
    {
      "cell_type": "code",
      "metadata": {
        "id": "VHCyMS_PmvMo",
        "colab_type": "code",
        "colab": {}
      },
      "source": [
        "# 推測結果をクラスラベルへ変換\n",
        "y_pred_CNN = np.argmax(cnn_pred, axis=1)\n",
        "y_test_CNN = np.argmax(y_test, axis=1)"
      ],
      "execution_count": 0,
      "outputs": []
    },
    {
      "cell_type": "code",
      "metadata": {
        "id": "SuGeIYnXmvMr",
        "colab_type": "code",
        "colab": {
          "base_uri": "https://localhost:8080/",
          "height": 185
        },
        "outputId": "e0f00fa1-b33e-4ad1-aafd-76f7e9c4d88d"
      },
      "source": [
        "print(confusion_matrix(y_test_CNN,y_pred_CNN))"
      ],
      "execution_count": 19,
      "outputs": [
        {
          "output_type": "stream",
          "text": [
            "[[ 973    0    1    0    0    0    4    2    1    2]\n",
            " [   1 1127   11    2    0    0    2    2    2    5]\n",
            " [   1    3  945    3    3    0    0    2    9    1]\n",
            " [   1    0   17  983    1    5    1    5   11   10]\n",
            " [   2    0    2    0  876    0    4    2    1   19]\n",
            " [   0    1    2   20    0  896    6    0   10    2]\n",
            " [   3    2    1    0    2    5  946    0    2    0]\n",
            " [   1    0   17    1    3    1    0 1014    2   16]\n",
            " [   6    2   10   10    2    2    2    3  924    8]\n",
            " [   5    3    0    9    4    1    0    5    6 1003]]\n"
          ],
          "name": "stdout"
        }
      ]
    },
    {
      "cell_type": "code",
      "metadata": {
        "id": "woQ7t49DmvMu",
        "colab_type": "code",
        "colab": {
          "base_uri": "https://localhost:8080/",
          "height": 34
        },
        "outputId": "cfe37dd3-9e9f-4d82-9317-ab685a98822b"
      },
      "source": [
        "print(accuracy_score(y_test_CNN,y_pred_CNN))"
      ],
      "execution_count": 20,
      "outputs": [
        {
          "output_type": "stream",
          "text": [
            "0.9687\n"
          ],
          "name": "stdout"
        }
      ]
    },
    {
      "cell_type": "code",
      "metadata": {
        "id": "zPcem6RxmvMw",
        "colab_type": "code",
        "colab": {}
      },
      "source": [
        ""
      ],
      "execution_count": 0,
      "outputs": []
    }
  ]
}