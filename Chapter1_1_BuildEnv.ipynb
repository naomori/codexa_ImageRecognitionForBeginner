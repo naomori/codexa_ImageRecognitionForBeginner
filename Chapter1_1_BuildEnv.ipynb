{
  "nbformat": 4,
  "nbformat_minor": 0,
  "metadata": {
    "colab": {
      "name": "Chapter1-1_BuildEnv.ipynb",
      "version": "0.3.2",
      "provenance": [],
      "include_colab_link": true
    },
    "kernelspec": {
      "name": "python3",
      "display_name": "Python 3"
    },
    "accelerator": "GPU"
  },
  "cells": [
    {
      "cell_type": "markdown",
      "metadata": {
        "id": "view-in-github",
        "colab_type": "text"
      },
      "source": [
        "<a href=\"https://colab.research.google.com/github/naomori/codexa_ImageRecognitionForBeginner/blob/master/Chapter1_1_BuildEnv.ipynb\" target=\"_parent\"><img src=\"https://colab.research.google.com/assets/colab-badge.svg\" alt=\"Open In Colab\"/></a>"
      ]
    },
    {
      "cell_type": "markdown",
      "metadata": {
        "id": "0YaMUYZ2xmz-",
        "colab_type": "text"
      },
      "source": [
        "# Google Colaboratory\n",
        "実行環境として、Google Colab を使用することにします。\n",
        "理由は、以下の通りです。\n",
        "1. LocalでGPU環境を用意しなくても良いこと\n",
        "2. ソフトウェアライブラリの依存関係に悩まなくて良いこと\n",
        "3. 上記から Deep Learning の習得に集中できること\n"
      ]
    },
    {
      "cell_type": "markdown",
      "metadata": {
        "id": "glnDcF6NyPuZ",
        "colab_type": "text"
      },
      "source": [
        "## Step.5: ライブラリのインポート\n",
        "Step.4 まではGUIで操作するだけなので、悩む箇所はありませんでした。\n",
        "ファイルのアップロードは後のチャプターで実行するはずなので skip しました。\n"
      ]
    },
    {
      "cell_type": "code",
      "metadata": {
        "id": "Vd28BrJ7yf7c",
        "colab_type": "code",
        "colab": {
          "base_uri": "https://localhost:8080/",
          "height": 140
        },
        "outputId": "d65df943-1b42-42d9-976c-0640ac83520b"
      },
      "source": [
        "import numpy as np\n",
        "import matplotlib\n",
        "import pandas as pd\n",
        "import tensorflow as tf\n",
        "import keras\n",
        "import cv2\n",
        "\n",
        "print(np.__version__)\n",
        "print(matplotlib.__version__)\n",
        "print(pd.__version__)\n",
        "print(tf.__version__)\n",
        "print(keras.__version__)\n",
        "print(cv2.__version__)"
      ],
      "execution_count": 1,
      "outputs": [
        {
          "output_type": "stream",
          "text": [
            "1.16.4\n",
            "3.0.3\n",
            "0.24.2\n",
            "1.14.0\n",
            "2.2.4\n",
            "3.4.3\n"
          ],
          "name": "stdout"
        },
        {
          "output_type": "stream",
          "text": [
            "Using TensorFlow backend.\n"
          ],
          "name": "stderr"
        }
      ]
    },
    {
      "cell_type": "markdown",
      "metadata": {
        "id": "jEFALNeFykVS",
        "colab_type": "text"
      },
      "source": [
        "テキストで示されたバージョンとは異なりますが、\n",
        "テキストにある通り、バージョンは異なる可能性があるとのことなので、\n",
        "大丈夫だと思います。"
      ]
    }
  ]
}