{
  "nbformat": 4,
  "nbformat_minor": 0,
  "metadata": {
    "colab": {
      "name": "Chapter2-2.ipynb",
      "version": "0.3.2",
      "provenance": [],
      "include_colab_link": true
    },
    "kernelspec": {
      "name": "python3",
      "display_name": "Python 3"
    }
  },
  "cells": [
    {
      "cell_type": "markdown",
      "metadata": {
        "id": "view-in-github",
        "colab_type": "text"
      },
      "source": [
        "<a href=\"https://colab.research.google.com/github/naomori/codexa_ImageRecognitionForBeginner/blob/master/Chapter2_2.ipynb\" target=\"_parent\"><img src=\"https://colab.research.google.com/assets/colab-badge.svg\" alt=\"Open In Colab\"/></a>"
      ]
    },
    {
      "cell_type": "markdown",
      "metadata": {
        "id": "jaoNhMpA1phG",
        "colab_type": "text"
      },
      "source": [
        "# Chapter 2.2: 画像認識の仕組み\n",
        "\n",
        "一般的なカラー画像は、１つのピクセルに RGB と独立した輝度情報を持ちます。  \n",
        "ピクセルにどれだけの情報を与えるかによって、表現できる色が決まります。"
      ]
    }
  ]
}