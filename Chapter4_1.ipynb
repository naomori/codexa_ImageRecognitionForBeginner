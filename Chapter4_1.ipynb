{
  "nbformat": 4,
  "nbformat_minor": 0,
  "metadata": {
    "colab": {
      "name": "Chapter4-1.ipynb",
      "version": "0.3.2",
      "provenance": [],
      "include_colab_link": true
    },
    "kernelspec": {
      "name": "python3",
      "display_name": "Python 3"
    },
    "accelerator": "GPU"
  },
  "cells": [
    {
      "cell_type": "markdown",
      "metadata": {
        "id": "view-in-github",
        "colab_type": "text"
      },
      "source": [
        "<a href=\"https://colab.research.google.com/github/naomori/codexa_ImageRecognitionForBeginner/blob/master/Chapter4_1.ipynb\" target=\"_parent\"><img src=\"https://colab.research.google.com/assets/colab-badge.svg\" alt=\"Open In Colab\"/></a>"
      ]
    },
    {
      "cell_type": "markdown",
      "metadata": {
        "id": "XnMjF1TgOa7Q",
        "colab_type": "text"
      },
      "source": [
        "# 4.1. Modified National Institute of Standards and Technology database (MNIST)\n",
        "\n",
        "MNIST は画像認識の最も初歩的なデータ・セットで、\n",
        "手書き数字画像とラベルがセットになっているデータセットです。\n",
        "画像認識、画像処理の学習教材としてよく利用されます。\n",
        "\n",
        "* 画像データ 70,000 枚\n",
        "* 28x28 のグレースケール画像\n",
        "* 0-9 までの手書きの数字\n",
        "* 画像に対してラベル（数字）が付与"
      ]
    },
    {
      "cell_type": "markdown",
      "metadata": {
        "id": "rHnOI8aMQWui",
        "colab_type": "text"
      },
      "source": [
        "## 機械学習手法\n",
        "ここでは、以下の機械学習の方法を使います。\n",
        "* ロジスティック回帰\n",
        "* サポートベクターマシン\n",
        "* ランダムフォレスト\n",
        "* k近傍法(KNN)\n",
        "* 畳み込みニューラルネットワーク(CNN)\n",
        "\n",
        "また、機械学習ライブラリとして、Scikit-learn, Keras を使います。"
      ]
    },
    {
      "cell_type": "markdown",
      "metadata": {
        "id": "bqnuln30Rufs",
        "colab_type": "text"
      },
      "source": [
        "## 機械学習ライブラリ\n",
        "\n",
        "#### Scikit-learn\n",
        "Scikit-learn は、Python の機械学習ライブラリです。  \n",
        "ロジスティック回帰、サポートベクターマシン、ランダムフォレストで利用します。   \n",
        "Scikit-learn にはモデル評価指標やデータ前処理の便利な機能も多数用意されています。\n",
        "\n",
        "#### Keras\n",
        "Keras は、Python の高水準ニューラルネットワークライブラリです。  \n",
        "Keras は、TensorFlow や MXNet 上で動作することが可能で、\n",
        "どのフレームワーク上で動作させるのかを選ぶことができます。\n",
        "\n"
      ]
    }
  ]
}