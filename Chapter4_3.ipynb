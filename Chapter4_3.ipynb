{
  "nbformat": 4,
  "nbformat_minor": 0,
  "metadata": {
    "colab": {
      "name": "Chapter4-3.ipynb",
      "version": "0.3.2",
      "provenance": [],
      "collapsed_sections": [],
      "include_colab_link": true
    },
    "kernelspec": {
      "name": "python3",
      "display_name": "Python 3"
    },
    "accelerator": "GPU"
  },
  "cells": [
    {
      "cell_type": "markdown",
      "metadata": {
        "id": "view-in-github",
        "colab_type": "text"
      },
      "source": [
        "<a href=\"https://colab.research.google.com/github/naomori/codexa_ImageRecognitionForBeginner/blob/master/Chapter4_3.ipynb\" target=\"_parent\"><img src=\"https://colab.research.google.com/assets/colab-badge.svg\" alt=\"Open In Colab\"/></a>"
      ]
    },
    {
      "cell_type": "markdown",
      "metadata": {
        "id": "joBf58colnJ6",
        "colab_type": "text"
      },
      "source": [
        "# 4.3 機械学習手法で画像認識\n",
        "\n",
        "本チャプターでは、ロジスティック回帰を使って、MNISTの分類を行ってみます。"
      ]
    },
    {
      "cell_type": "markdown",
      "metadata": {
        "id": "Q1CoMVVhl-Uo",
        "colab_type": "text"
      },
      "source": [
        "## ロジスティック回帰で画像認識\n",
        "\n",
        "ロジスティック回帰は 1958 年に統計学者により発明されました。  \n",
        "ロジスティック回帰は「分類問題に対する確率論的アプローチ」です。  \n",
        "ロジスティック回帰の目標は、サンプルが特定のカテゴリやクラスに属する「確率」をモデル化することです。\n",
        "\n",
        "ロジスティック回帰の特徴は以下です。\n",
        "* シンプルな構造で推論結果の「説明」が比較的簡単\n",
        "* ハイパーパラメータチューニングが（ほぼ）不要\n",
        "* **線形性（linear）を仮定**\n",
        "\n",
        "重要なのは、線形性であり、線形性とは変数と変数の関係が直線的ということを意味します。 "
      ]
    },
    {
      "cell_type": "code",
      "metadata": {
        "id": "63vPqhqllSc6",
        "colab_type": "code",
        "colab": {}
      },
      "source": [
        "# データ処理のライブラリ\n",
        "import numpy as np \n",
        "import pandas as pd\n",
        "\n",
        "# データ可視化のライブラリ\n",
        "import matplotlib\n",
        "import matplotlib.pyplot as plt\n",
        "%matplotlib inline \n",
        "\n",
        "# 機械学習ライブラリ scikit-learn\n",
        "from sklearn.model_selection import train_test_split\n",
        "from sklearn.model_selection import cross_val_score\n",
        "from sklearn.metrics import confusion_matrix, accuracy_score\n",
        "from sklearn.svm import SVC\n",
        "from sklearn.ensemble import RandomForestClassifier\n",
        "from sklearn.neighbors import KNeighborsClassifier\n",
        "from sklearn.linear_model import LogisticRegression\n",
        "from sklearn.datasets import fetch_openml"
      ],
      "execution_count": 0,
      "outputs": []
    },
    {
      "cell_type": "code",
      "metadata": {
        "id": "b_8aq1nDm8qI",
        "colab_type": "code",
        "colab": {}
      },
      "source": [
        "# MNIST データセットの読み込み\n",
        "X, y = fetch_openml('mnist_784', version=1, return_X_y=True)\n",
        "\n",
        "# 訓練/テストセットへ分割\n",
        "X_train, X_test, y_train, y_test = train_test_split(X,y, test_size=.2, random_state=42) "
      ],
      "execution_count": 0,
      "outputs": []
    },
    {
      "cell_type": "code",
      "metadata": {
        "id": "iSGhJF75suRm",
        "colab_type": "code",
        "colab": {}
      },
      "source": [
        "# 訓練データの最初の1万件のみへ縮小\n",
        "X_train = X_train[:10000]\n",
        "y_train = y_train[:10000]\n",
        "\n",
        "# テストデータの最初の1万件のみへ縮小\n",
        "X_test = X_test[:10000]\n",
        "y_test = y_test[:10000]"
      ],
      "execution_count": 0,
      "outputs": []
    },
    {
      "cell_type": "code",
      "metadata": {
        "id": "zbtF64BLnVCq",
        "colab_type": "code",
        "colab": {}
      },
      "source": [
        "# 正規化\n",
        "X_train = X_train.astype('float32') / 255\n",
        "X_test = X_test.astype('float32') / 255"
      ],
      "execution_count": 0,
      "outputs": []
    },
    {
      "cell_type": "markdown",
      "metadata": {
        "id": "Tg8fB2honzyV",
        "colab_type": "text"
      },
      "source": [
        "ロジスティック回帰には Scikit-learn の　[LogisticRegression](https://scikit-learn.org/stable/modules/generated/sklearn.linear_model.LogisticRegression.html)を使います。  \n",
        "これを使って、モデルを訓練します。"
      ]
    },
    {
      "cell_type": "code",
      "metadata": {
        "id": "TBwNAMmfndfW",
        "colab_type": "code",
        "colab": {
          "base_uri": "https://localhost:8080/",
          "height": 136
        },
        "outputId": "3b56d41f-c6aa-448b-e509-928392a8bf05"
      },
      "source": [
        "# ロジスティック回帰 インスタンス生成\n",
        "logi = LogisticRegression(solver='lbfgs', multi_class='auto', random_state=42)\n",
        "\n",
        "# モデル訓練\n",
        "logi.fit(X_train, y_train)"
      ],
      "execution_count": 7,
      "outputs": [
        {
          "output_type": "stream",
          "text": [
            "/usr/local/lib/python3.6/dist-packages/sklearn/linear_model/logistic.py:947: ConvergenceWarning: lbfgs failed to converge. Increase the number of iterations.\n",
            "  \"of iterations.\", ConvergenceWarning)\n"
          ],
          "name": "stderr"
        },
        {
          "output_type": "execute_result",
          "data": {
            "text/plain": [
              "LogisticRegression(C=1.0, class_weight=None, dual=False, fit_intercept=True,\n",
              "                   intercept_scaling=1, l1_ratio=None, max_iter=100,\n",
              "                   multi_class='auto', n_jobs=None, penalty='l2',\n",
              "                   random_state=42, solver='lbfgs', tol=0.0001, verbose=0,\n",
              "                   warm_start=False)"
            ]
          },
          "metadata": {
            "tags": []
          },
          "execution_count": 7
        }
      ]
    },
    {
      "cell_type": "markdown",
      "metadata": {
        "id": "Cm_ZZPGBpJVx",
        "colab_type": "text"
      },
      "source": [
        "モデルの訓練が終了したら、テストデータを使って評価します。  \n",
        "訓練済みモデルへテストデータを入力して、推測結果を混同行列（Confusion Matrix）で出力します。\n",
        "\n",
        "#### 混同行列（Confusion Matrix）\n",
        "とは、クラス分類の結果をまとめた表のことです。\n",
        "\n",
        "陽性のサンプルのうち、何個が正しく陽性と判定され、何個が誤って陰性と判定されたか、  \n",
        "といったことを分かりやすくまとめるために用います。クロス表の一種です。"
      ]
    },
    {
      "cell_type": "code",
      "metadata": {
        "id": "LwKVgveVnmPw",
        "colab_type": "code",
        "colab": {
          "base_uri": "https://localhost:8080/",
          "height": 187
        },
        "outputId": "7ddf2606-815a-4074-f114-5298a3a7dce9"
      },
      "source": [
        "# テストデータから推測\n",
        "logi_pred = logi.predict(X_test)\n",
        "\n",
        "# 混同行列を表示\n",
        "print(confusion_matrix(y_test, logi_pred))"
      ],
      "execution_count": 8,
      "outputs": [
        {
          "output_type": "stream",
          "text": [
            "[[ 938    0    4    2    2   13    8    3   12    1]\n",
            " [   0 1111    5    5    0   12    0    3   12    4]\n",
            " [   3   22  843   23   13    3   20   10   24    6]\n",
            " [   1    6   29  902    2   43    3   18   19   11]\n",
            " [   5    1    8    7  816    2   12    7   15   33]\n",
            " [  12    7   10   47   10  796    9    5   32    9]\n",
            " [   9    3   15    0    8   18  904    0    3    1]\n",
            " [   5    2   19    5    9    5    0  978    1   31]\n",
            " [  10   16   18   43    6   33    9    9  809   16]\n",
            " [   4    6    3   16   40    4    0   42   15  906]]\n"
          ],
          "name": "stdout"
        }
      ]
    },
    {
      "cell_type": "markdown",
      "metadata": {
        "id": "FqNUrc9kqpcb",
        "colab_type": "text"
      },
      "source": [
        "正解率を表示してみます。"
      ]
    },
    {
      "cell_type": "code",
      "metadata": {
        "id": "qwn22tsyqBo5",
        "colab_type": "code",
        "colab": {
          "base_uri": "https://localhost:8080/",
          "height": 34
        },
        "outputId": "58eb0745-1aa1-4637-d4b6-1ec6aab03ab2"
      },
      "source": [
        "# 正解率を算出\n",
        "print(accuracy_score(y_test, logi_pred))"
      ],
      "execution_count": 9,
      "outputs": [
        {
          "output_type": "stream",
          "text": [
            "0.9003\n"
          ],
          "name": "stdout"
        }
      ]
    },
    {
      "cell_type": "markdown",
      "metadata": {
        "id": "zh7Q_wGpq2eT",
        "colab_type": "text"
      },
      "source": [
        "# サポートベクターマシンで画像認識\n",
        "\n",
        "本セクションではサポートベクターマシン（Support Vector Machine: SVM）を使って、MNIST を分類します。  \n",
        "SVM は回帰・分類ともに使えます。特に分類の推測精度が高いことから多く用いられています。  \n",
        "カーネル法と呼ばれる手法が特徴的です。  また、計算コストが高いです。\n",
        "ロジスティック回帰で訓練時間が数秒のものが、SVMでは数分かかります。\n",
        "\n",
        "SVMでモデル訓練を行います。\n",
        "Scikit-learn の Support Vector Classifier(SVC) を使います。"
      ]
    },
    {
      "cell_type": "code",
      "metadata": {
        "id": "T4a8-duRqo7E",
        "colab_type": "code",
        "colab": {
          "base_uri": "https://localhost:8080/",
          "height": 85
        },
        "outputId": "41a30bb2-4222-4822-f3cf-712e031ee3c9"
      },
      "source": [
        "# SVM インスタンス生成\n",
        "svc = SVC(gamma='auto', random_state=42)\n",
        "\n",
        "# モデル訓練\n",
        "svc.fit(X_train, y_train)"
      ],
      "execution_count": 11,
      "outputs": [
        {
          "output_type": "execute_result",
          "data": {
            "text/plain": [
              "SVC(C=1.0, cache_size=200, class_weight=None, coef0=0.0,\n",
              "    decision_function_shape='ovr', degree=3, gamma='auto', kernel='rbf',\n",
              "    max_iter=-1, probability=False, random_state=42, shrinking=True, tol=0.001,\n",
              "    verbose=False)"
            ]
          },
          "metadata": {
            "tags": []
          },
          "execution_count": 11
        }
      ]
    },
    {
      "cell_type": "markdown",
      "metadata": {
        "id": "BDE_PIbvt7QL",
        "colab_type": "text"
      },
      "source": [
        "テストデータを使って評価します。"
      ]
    },
    {
      "cell_type": "code",
      "metadata": {
        "id": "A9JSNZT7t-Dq",
        "colab_type": "code",
        "colab": {
          "base_uri": "https://localhost:8080/",
          "height": 187
        },
        "outputId": "fea8fad4-de36-481d-8dd4-f8a6f2fe8af3"
      },
      "source": [
        "# テストデータから推測\n",
        "svc_pred = svc.predict(X_test)\n",
        "\n",
        "# 混同行列を表示\n",
        "print(confusion_matrix(y_test, svc_pred))"
      ],
      "execution_count": 12,
      "outputs": [
        {
          "output_type": "stream",
          "text": [
            "[[ 955    0    5    1    1    6    6    1    8    0]\n",
            " [   0 1125    5    7    0    4    1    4    5    1]\n",
            " [   8   10  876   10   12    4   18    8   19    2]\n",
            " [   2   13   26  903    0   35    6   13   25   11]\n",
            " [   3    4    7    0  840    0    6    2    1   43]\n",
            " [   6   18    5   41    7  833   10    0   10    7]\n",
            " [   7    4    6    1    9   16  914    0    4    0]\n",
            " [   2   19   13    1    9    5    0  979    3   24]\n",
            " [   7   20   12   40    8   28    9   10  824   11]\n",
            " [   8    9    4   14   40    5    0   26    5  925]]\n"
          ],
          "name": "stdout"
        }
      ]
    },
    {
      "cell_type": "code",
      "metadata": {
        "id": "P8xKTqb_r3vi",
        "colab_type": "code",
        "colab": {
          "base_uri": "https://localhost:8080/",
          "height": 34
        },
        "outputId": "aee5bee3-f846-4966-a890-74993cdacf6d"
      },
      "source": [
        "print(accuracy_score(y_test, svc_pred))"
      ],
      "execution_count": 13,
      "outputs": [
        {
          "output_type": "stream",
          "text": [
            "0.9174\n"
          ],
          "name": "stdout"
        }
      ]
    },
    {
      "cell_type": "markdown",
      "metadata": {
        "id": "G1jvWVc3uRM2",
        "colab_type": "text"
      },
      "source": [
        "Logistic Regression と比較して若干 SVM の方が性能が良いみたいです。  \n",
        "ですが、SVM の方が Logistic Regression より常に優れているとういわけではないです。  \n",
        "機械学習の手法には特徴があり、その優劣をつけることはできません。"
      ]
    },
    {
      "cell_type": "markdown",
      "metadata": {
        "id": "51hP5rqxu1g8",
        "colab_type": "text"
      },
      "source": [
        "# ランダムフォレストで画像認識\n",
        "\n",
        "ランダムフォレストは決定木を複数使って、それらを１つの「森」にして、より正確かつ質の高い予測（分類） を行います。\n",
        "このように、複数の弱いモデル（弱学習器）を１つにまとめる手法を「アンサンブル学習」と呼びます。  \n",
        "アンサンブル学習は以下の３つに分類されます。\n",
        "1. Bagging\n",
        "2. Boosting\n",
        "3. Stacking\n",
        "\n",
        "ランダムフォレストは、Bagging に属する学習手法です。"
      ]
    },
    {
      "cell_type": "markdown",
      "metadata": {
        "id": "jd4lXf1UwNWZ",
        "colab_type": "text"
      },
      "source": [
        "[RandomForestClassifier](https://scikit-learn.org/stable/modules/generated/sklearn.ensemble.RandomForestClassifier.html)を使います。"
      ]
    },
    {
      "cell_type": "code",
      "metadata": {
        "id": "NTvKnTj9uMa4",
        "colab_type": "code",
        "colab": {
          "base_uri": "https://localhost:8080/",
          "height": 136
        },
        "outputId": "20dcd4f5-ea15-4d04-fd83-a363a8982c0a"
      },
      "source": [
        "# ランダムフォレスト　インスタンス作成\n",
        "rfc = RandomForestClassifier(n_estimators=100, random_state=1)\n",
        "\n",
        "# モデル訓練\n",
        "rfc.fit(X_train, y_train)"
      ],
      "execution_count": 16,
      "outputs": [
        {
          "output_type": "execute_result",
          "data": {
            "text/plain": [
              "RandomForestClassifier(bootstrap=True, class_weight=None, criterion='gini',\n",
              "                       max_depth=None, max_features='auto', max_leaf_nodes=None,\n",
              "                       min_impurity_decrease=0.0, min_impurity_split=None,\n",
              "                       min_samples_leaf=1, min_samples_split=2,\n",
              "                       min_weight_fraction_leaf=0.0, n_estimators=100,\n",
              "                       n_jobs=None, oob_score=False, random_state=1, verbose=0,\n",
              "                       warm_start=False)"
            ]
          },
          "metadata": {
            "tags": []
          },
          "execution_count": 16
        }
      ]
    },
    {
      "cell_type": "code",
      "metadata": {
        "id": "dXod5EpSv3g9",
        "colab_type": "code",
        "colab": {
          "base_uri": "https://localhost:8080/",
          "height": 187
        },
        "outputId": "a3af33c3-e738-417a-d13f-8286fcf4ba17"
      },
      "source": [
        "# テストデータから推測\n",
        "rfc_pred = rfc.predict(X_test)\n",
        "\n",
        "# 混合行列を表示\n",
        "print(confusion_matrix(y_test, rfc_pred))"
      ],
      "execution_count": 17,
      "outputs": [
        {
          "output_type": "stream",
          "text": [
            "[[ 961    0    3    0    0    1    6    1   10    1]\n",
            " [   0 1126    6    5    0    1    0    6    5    3]\n",
            " [   5    2  922    4    9    0    7    9    8    1]\n",
            " [   2    4   18  953    1   15    3   13   13   12]\n",
            " [   1    0    1    0  848    2   12    3    4   35]\n",
            " [   4    5    1   31    2  869    9    1   10    5]\n",
            " [   8    3    0    0    3   10  935    0    2    0]\n",
            " [   4    5   17    0    9    1    0 1003    4   12]\n",
            " [   3   10   11   22    6   10    5    7  884   11]\n",
            " [   5    5    1   15   23    5    4   14    4  960]]\n"
          ],
          "name": "stdout"
        }
      ]
    },
    {
      "cell_type": "code",
      "metadata": {
        "id": "UIFecReiwofl",
        "colab_type": "code",
        "colab": {
          "base_uri": "https://localhost:8080/",
          "height": 34
        },
        "outputId": "33076c2e-13a6-46b2-8ee4-97d097c24f02"
      },
      "source": [
        "# 正解率を表示\n",
        "print(accuracy_score(y_test, rfc_pred))"
      ],
      "execution_count": 18,
      "outputs": [
        {
          "output_type": "stream",
          "text": [
            "0.9461\n"
          ],
          "name": "stdout"
        }
      ]
    },
    {
      "cell_type": "markdown",
      "metadata": {
        "id": "WzGexHqewxyx",
        "colab_type": "text"
      },
      "source": [
        "テキストとは異なりますが、最も高い精度が出ました。"
      ]
    },
    {
      "cell_type": "markdown",
      "metadata": {
        "id": "QKiVJHZ4w54c",
        "colab_type": "text"
      },
      "source": [
        "# ここから CNN 。の前に、基礎を固めることにします。\n",
        "\n",
        "ここから先は、CNN になるので、以下の学習を済ませようと思います。\n",
        "\n",
        "1. [線形代数 入門](https://student.codexa.net/contents/index/6)\n",
        "2. [統計入門（前編）]()\n",
        "3. [統計入門（後編）]()\n",
        "4. [Numpy]()\n",
        "5. [Pandas 入門]()\n",
        "6. [Matplotlib 入門]()\n",
        "7. [線形回帰 入門]()\n",
        "8. [実践 線形回帰]()\n",
        "9. [実践 ロジスティック回帰]()\n",
        "10. [決定木とランダムフォレスト]()"
      ]
    }
  ]
}